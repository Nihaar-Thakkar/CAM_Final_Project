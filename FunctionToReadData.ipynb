{
 "cells": [
  {
   "cell_type": "markdown",
   "id": "d26046b4-232d-4ae1-9959-311f7ec90831",
   "metadata": {},
   "source": [
    "**Function to read a training or test dataset and return a pandas data frame**\n",
    "\n",
    "**Input:** fileid for the training data set or test dataset (csv file) that you downloaded to your computer\n",
    "\n",
    "**Output:** a pandas dataframe\n",
    "\n",
    "Note that the two datasets provided each consist of string fields.\n",
    "- All numeric fields are converted to floats \n",
    "(even integer fields since we can't have missing values in a pandas int series)\n",
    "- All string fields remain as objects.\n",
    "- Dates are converted to datetime.\n",
    "\n"
   ]
  },
  {
   "cell_type": "code",
   "execution_count": 1,
   "id": "b2652fda-7057-46bb-97c5-808a58774140",
   "metadata": {},
   "outputs": [],
   "source": [
    "import pandas as pd\n",
    "import numpy as np\n",
    "\n",
    "\n",
    "def read_data(fileid): \n",
    "    stringvariables=[\"LOAN_ID\",\"CHANNEL\", \"FIRST_TIME_HOME_BUYER_IND\",\n",
    "                  \"LOAN_PURPOSE\", \"PROPERTY_TYPE\", \"OCCUPANCY_STATUS\",\n",
    "                  \"PROPERTY_STATE\", \"ZIP_CODE_SHORT\"]\n",
    "    floatvariables=[\"NUMBER_OF_UNITS\",\"FORECLOSURE\",\"LTV\",\n",
    "                   \"NUMBER_OF_BORROWERS\",\"DTI\",\"LOAN_AGE\",\n",
    "                   \"REM_MONTHS_LEGAL_MATURITY\", \"REM_MONTHS_MATURITY\",\n",
    "                   \"ORIGINAL_LOAN_TERM\", \"CLTV\",\n",
    "                   \"B_CREDIT_SCORE_O\",\"CB_CREDIT_SCORE_O\", \"NMONTHS\",\n",
    "                   \"MSA\",\"MORTGAGE_INSURANCE_PERCENTAGE\",\n",
    "                   \"ORIGINAL_INTEREST_RATE\", \"CURRENT_INTEREST_RATE\",\n",
    "                   \"ORIGINAL_UPB\"]\n",
    "    datevariables=[\"MONTHLY_REPORTING_PERIOD\",\n",
    "                   \"ORIGINATION_DATE\",\n",
    "                   \"FIRST_PAYMENT_DATE\",\n",
    "                   \"MATURITY_DATE\"]\n",
    "    objectvariables=stringvariables + datevariables\n",
    "    dtypes={}\n",
    "    for s in objectvariables:\n",
    "        dtypes[s]=\"object\"\n",
    "    for s in floatvariables:\n",
    "        dtypes[s]=\"float\"\n",
    "    na_strings=[\"\".join([\" \" for j in range(m)]) for m in range(10)]\n",
    "    df=pd.read_csv(fileid,dtype=dtypes,na_values=na_strings)\n",
    "    for datevar in datevariables:\n",
    "        df[datevar]=pd.to_datetime(df[datevar],format=\"%m%Y\")\n",
    "    return(df)\n"
   ]
  },
  {
   "cell_type": "code",
   "execution_count": null,
   "id": "c647fd49-b6c3-42e3-9efc-253969af3b1e",
   "metadata": {},
   "outputs": [],
   "source": []
  }
 ],
 "metadata": {
  "kernelspec": {
   "display_name": "Python 3 (ipykernel)",
   "language": "python",
   "name": "python3"
  },
  "language_info": {
   "codemirror_mode": {
    "name": "ipython",
    "version": 3
   },
   "file_extension": ".py",
   "mimetype": "text/x-python",
   "name": "python",
   "nbconvert_exporter": "python",
   "pygments_lexer": "ipython3",
   "version": "3.9.12"
  }
 },
 "nbformat": 4,
 "nbformat_minor": 5
}
