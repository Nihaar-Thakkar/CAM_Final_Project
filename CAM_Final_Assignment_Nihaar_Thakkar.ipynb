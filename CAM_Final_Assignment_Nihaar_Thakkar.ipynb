{
 "cells": [
  {
   "cell_type": "markdown",
   "id": "bc10e8bd",
   "metadata": {},
   "source": [
    "# Importing the data"
   ]
  },
  {
   "cell_type": "code",
   "execution_count": 737,
   "id": "103035b2",
   "metadata": {},
   "outputs": [],
   "source": [
    "import pandas as pd\n",
    "import numpy as np\n",
    "\n",
    "def read_data(fileid): \n",
    "    stringvariables=[\"LOAN_ID\",\"CHANNEL\", \"FIRST_TIME_HOME_BUYER_IND\",\n",
    "                  \"LOAN_PURPOSE\", \"PROPERTY_TYPE\", \"OCCUPANCY_STATUS\",\n",
    "                  \"PROPERTY_STATE\", \"ZIP_CODE_SHORT\"]\n",
    "    floatvariables=[\"NUMBER_OF_UNITS\",\"FORECLOSURE\",\"LTV\",\n",
    "                   \"NUMBER_OF_BORROWERS\",\"DTI\",\"LOAN_AGE\",\n",
    "                   \"REM_MONTHS_LEGAL_MATURITY\", \"REM_MONTHS_MATURITY\",\n",
    "                   \"ORIGINAL_LOAN_TERM\", \"CLTV\",\n",
    "                   \"B_CREDIT_SCORE_O\",\"CB_CREDIT_SCORE_O\", \"NMONTHS\",\n",
    "                   \"MSA\",\"MORTGAGE_INSURANCE_PERCENTAGE\",\n",
    "                   \"ORIGINAL_INTEREST_RATE\", \"CURRENT_INTEREST_RATE\",\n",
    "                   \"ORIGINAL_UPB\"]\n",
    "    datevariables=[\"MONTHLY_REPORTING_PERIOD\",\n",
    "                   \"ORIGINATION_DATE\",\n",
    "                   \"FIRST_PAYMENT_DATE\",\n",
    "                   \"MATURITY_DATE\"]\n",
    "    objectvariables=stringvariables + datevariables\n",
    "    dtypes={}\n",
    "    for s in objectvariables:\n",
    "        dtypes[s]=\"object\"\n",
    "    for s in floatvariables:\n",
    "        dtypes[s]=\"float\"\n",
    "    na_strings=[\"\".join([\" \" for j in range(m)]) for m in range(10)]\n",
    "    df=pd.read_csv(fileid,dtype=dtypes,na_values=na_strings)\n",
    "    for datevar in datevariables:\n",
    "        df[datevar]=pd.to_datetime(df[datevar],format=\"%m%Y\")\n",
    "    return(df)"
   ]
  },
  {
   "cell_type": "code",
   "execution_count": 738,
   "id": "44b65817",
   "metadata": {},
   "outputs": [],
   "source": [
    "#Reading the train data into dataframe\n",
    "df1=read_data('trainAPTE.csv')\n",
    "train_df=df1.copy()"
   ]
  },
  {
   "cell_type": "code",
   "execution_count": 739,
   "id": "7a9ee354",
   "metadata": {},
   "outputs": [],
   "source": [
    "y=train_df.loc[:,['FORECLOSURE','NMONTHS']]"
   ]
  },
  {
   "cell_type": "code",
   "execution_count": 740,
   "id": "b141bac3",
   "metadata": {},
   "outputs": [],
   "source": [
    "train_df.drop(['FORECLOSURE','NMONTHS'],axis=1,inplace=True)"
   ]
  },
  {
   "cell_type": "code",
   "execution_count": 741,
   "id": "18e8dcd0",
   "metadata": {},
   "outputs": [
    {
     "name": "stdout",
     "output_type": "stream",
     "text": [
      "Number of foreclosures in the training set are 7399\n"
     ]
    }
   ],
   "source": [
    "number_foreclosures=(y['FORECLOSURE']==1).sum()\n",
    "print('Number of foreclosures in the training set are',number_foreclosures)"
   ]
  },
  {
   "cell_type": "code",
   "execution_count": 742,
   "id": "847a7376",
   "metadata": {},
   "outputs": [
    {
     "name": "stdout",
     "output_type": "stream",
     "text": [
      "Mean value of NMONTHS in the training set is 60.772\n"
     ]
    }
   ],
   "source": [
    "mean_nmonths=y['NMONTHS'].mean()\n",
    "print('Mean value of NMONTHS in the training set is {:.3f}'.format(mean_nmonths))"
   ]
  },
  {
   "cell_type": "markdown",
   "id": "2a5c8a14",
   "metadata": {},
   "source": [
    "# Inspecting the data"
   ]
  },
  {
   "cell_type": "code",
   "execution_count": 743,
   "id": "4c662c6d",
   "metadata": {},
   "outputs": [
    {
     "data": {
      "text/plain": [
       "((250000, 28), (250000, 2))"
      ]
     },
     "execution_count": 743,
     "metadata": {},
     "output_type": "execute_result"
    }
   ],
   "source": [
    "train_df.shape,y.shape"
   ]
  },
  {
   "cell_type": "code",
   "execution_count": 744,
   "id": "ff193ced",
   "metadata": {},
   "outputs": [
    {
     "data": {
      "text/plain": [
       "LOAN_ID                                  object\n",
       "MONTHLY_REPORTING_PERIOD         datetime64[ns]\n",
       "CHANNEL                                  object\n",
       "ORIGINAL_INTEREST_RATE                  float64\n",
       "CURRENT_INTEREST_RATE                   float64\n",
       "ORIGINAL_UPB                            float64\n",
       "ORIGINAL_LOAN_TERM                      float64\n",
       "ORIGINATION_DATE                 datetime64[ns]\n",
       "FIRST_PAYMENT_DATE               datetime64[ns]\n",
       "LOAN_AGE                                float64\n",
       "REM_MONTHS_LEGAL_MATURITY               float64\n",
       "REM_MONTHS_MATURITY                     float64\n",
       "MATURITY_DATE                    datetime64[ns]\n",
       "LTV                                     float64\n",
       "CLTV                                    float64\n",
       "NUMBER_OF_BORROWERS                     float64\n",
       "DTI                                     float64\n",
       "B_CREDIT_SCORE_O                        float64\n",
       "CB_CREDIT_SCORE_O                       float64\n",
       "FIRST_TIME_HOME_BUYER_IND                object\n",
       "LOAN_PURPOSE                             object\n",
       "PROPERTY_TYPE                            object\n",
       "NUMBER_OF_UNITS                         float64\n",
       "OCCUPANCY_STATUS                         object\n",
       "PROPERTY_STATE                           object\n",
       "MSA                                     float64\n",
       "ZIP_CODE_SHORT                           object\n",
       "MORTGAGE_INSURANCE_PERCENTAGE           float64\n",
       "dtype: object"
      ]
     },
     "execution_count": 744,
     "metadata": {},
     "output_type": "execute_result"
    }
   ],
   "source": [
    "#Data types of all columns\n",
    "train_df.dtypes"
   ]
  },
  {
   "cell_type": "code",
   "execution_count": 745,
   "id": "8c35ee5c",
   "metadata": {},
   "outputs": [
    {
     "data": {
      "text/html": [
       "<div>\n",
       "<style scoped>\n",
       "    .dataframe tbody tr th:only-of-type {\n",
       "        vertical-align: middle;\n",
       "    }\n",
       "\n",
       "    .dataframe tbody tr th {\n",
       "        vertical-align: top;\n",
       "    }\n",
       "\n",
       "    .dataframe thead th {\n",
       "        text-align: right;\n",
       "    }\n",
       "</style>\n",
       "<table border=\"1\" class=\"dataframe\">\n",
       "  <thead>\n",
       "    <tr style=\"text-align: right;\">\n",
       "      <th></th>\n",
       "      <th>ORIGINAL_INTEREST_RATE</th>\n",
       "      <th>CURRENT_INTEREST_RATE</th>\n",
       "      <th>ORIGINAL_UPB</th>\n",
       "      <th>ORIGINAL_LOAN_TERM</th>\n",
       "      <th>LOAN_AGE</th>\n",
       "      <th>REM_MONTHS_LEGAL_MATURITY</th>\n",
       "      <th>REM_MONTHS_MATURITY</th>\n",
       "      <th>LTV</th>\n",
       "      <th>CLTV</th>\n",
       "      <th>NUMBER_OF_BORROWERS</th>\n",
       "      <th>DTI</th>\n",
       "      <th>B_CREDIT_SCORE_O</th>\n",
       "      <th>CB_CREDIT_SCORE_O</th>\n",
       "      <th>NUMBER_OF_UNITS</th>\n",
       "      <th>MSA</th>\n",
       "      <th>MORTGAGE_INSURANCE_PERCENTAGE</th>\n",
       "    </tr>\n",
       "  </thead>\n",
       "  <tbody>\n",
       "    <tr>\n",
       "      <th>count</th>\n",
       "      <td>250000.000000</td>\n",
       "      <td>249996.000000</td>\n",
       "      <td>250000.000000</td>\n",
       "      <td>250000.000000</td>\n",
       "      <td>249996.000000</td>\n",
       "      <td>249996.000000</td>\n",
       "      <td>249996.000000</td>\n",
       "      <td>250000.000000</td>\n",
       "      <td>246825.000000</td>\n",
       "      <td>249911.000000</td>\n",
       "      <td>241209.000000</td>\n",
       "      <td>248300.000000</td>\n",
       "      <td>114506.000000</td>\n",
       "      <td>250000.000000</td>\n",
       "      <td>250000.000000</td>\n",
       "      <td>41999.000000</td>\n",
       "    </tr>\n",
       "    <tr>\n",
       "      <th>mean</th>\n",
       "      <td>6.206449</td>\n",
       "      <td>6.206450</td>\n",
       "      <td>158896.052000</td>\n",
       "      <td>306.794856</td>\n",
       "      <td>0.558149</td>\n",
       "      <td>306.235856</td>\n",
       "      <td>305.415391</td>\n",
       "      <td>69.442732</td>\n",
       "      <td>70.224742</td>\n",
       "      <td>1.617612</td>\n",
       "      <td>34.024352</td>\n",
       "      <td>726.042175</td>\n",
       "      <td>733.731010</td>\n",
       "      <td>1.041412</td>\n",
       "      <td>27037.665720</td>\n",
       "      <td>22.829829</td>\n",
       "    </tr>\n",
       "    <tr>\n",
       "      <th>std</th>\n",
       "      <td>0.824314</td>\n",
       "      <td>0.824321</td>\n",
       "      <td>83222.389816</td>\n",
       "      <td>82.024687</td>\n",
       "      <td>1.568314</td>\n",
       "      <td>82.021823</td>\n",
       "      <td>82.222904</td>\n",
       "      <td>17.419863</td>\n",
       "      <td>17.688648</td>\n",
       "      <td>0.504134</td>\n",
       "      <td>12.942940</td>\n",
       "      <td>56.277771</td>\n",
       "      <td>54.671193</td>\n",
       "      <td>0.260049</td>\n",
       "      <td>14068.680452</td>\n",
       "      <td>7.119979</td>\n",
       "    </tr>\n",
       "    <tr>\n",
       "      <th>min</th>\n",
       "      <td>2.990000</td>\n",
       "      <td>2.990000</td>\n",
       "      <td>5000.000000</td>\n",
       "      <td>60.000000</td>\n",
       "      <td>-1.000000</td>\n",
       "      <td>60.000000</td>\n",
       "      <td>1.000000</td>\n",
       "      <td>2.000000</td>\n",
       "      <td>2.000000</td>\n",
       "      <td>1.000000</td>\n",
       "      <td>1.000000</td>\n",
       "      <td>363.000000</td>\n",
       "      <td>359.000000</td>\n",
       "      <td>1.000000</td>\n",
       "      <td>0.000000</td>\n",
       "      <td>1.000000</td>\n",
       "    </tr>\n",
       "    <tr>\n",
       "      <th>25%</th>\n",
       "      <td>5.625000</td>\n",
       "      <td>5.625000</td>\n",
       "      <td>97000.000000</td>\n",
       "      <td>180.000000</td>\n",
       "      <td>0.000000</td>\n",
       "      <td>181.000000</td>\n",
       "      <td>180.000000</td>\n",
       "      <td>59.000000</td>\n",
       "      <td>60.000000</td>\n",
       "      <td>1.000000</td>\n",
       "      <td>24.000000</td>\n",
       "      <td>687.000000</td>\n",
       "      <td>697.000000</td>\n",
       "      <td>1.000000</td>\n",
       "      <td>16980.000000</td>\n",
       "      <td>17.000000</td>\n",
       "    </tr>\n",
       "    <tr>\n",
       "      <th>50%</th>\n",
       "      <td>6.125000</td>\n",
       "      <td>6.125000</td>\n",
       "      <td>143000.000000</td>\n",
       "      <td>360.000000</td>\n",
       "      <td>0.000000</td>\n",
       "      <td>359.000000</td>\n",
       "      <td>359.000000</td>\n",
       "      <td>74.000000</td>\n",
       "      <td>75.000000</td>\n",
       "      <td>2.000000</td>\n",
       "      <td>33.000000</td>\n",
       "      <td>735.000000</td>\n",
       "      <td>745.000000</td>\n",
       "      <td>1.000000</td>\n",
       "      <td>31080.000000</td>\n",
       "      <td>25.000000</td>\n",
       "    </tr>\n",
       "    <tr>\n",
       "      <th>75%</th>\n",
       "      <td>6.750000</td>\n",
       "      <td>6.750000</td>\n",
       "      <td>206000.000000</td>\n",
       "      <td>360.000000</td>\n",
       "      <td>1.000000</td>\n",
       "      <td>360.000000</td>\n",
       "      <td>360.000000</td>\n",
       "      <td>80.000000</td>\n",
       "      <td>80.000000</td>\n",
       "      <td>2.000000</td>\n",
       "      <td>43.000000</td>\n",
       "      <td>772.000000</td>\n",
       "      <td>778.000000</td>\n",
       "      <td>1.000000</td>\n",
       "      <td>38860.000000</td>\n",
       "      <td>30.000000</td>\n",
       "    </tr>\n",
       "    <tr>\n",
       "      <th>max</th>\n",
       "      <td>11.750000</td>\n",
       "      <td>11.750000</td>\n",
       "      <td>802000.000000</td>\n",
       "      <td>360.000000</td>\n",
       "      <td>92.000000</td>\n",
       "      <td>361.000000</td>\n",
       "      <td>361.000000</td>\n",
       "      <td>97.000000</td>\n",
       "      <td>192.000000</td>\n",
       "      <td>9.000000</td>\n",
       "      <td>64.000000</td>\n",
       "      <td>850.000000</td>\n",
       "      <td>839.000000</td>\n",
       "      <td>4.000000</td>\n",
       "      <td>49740.000000</td>\n",
       "      <td>50.000000</td>\n",
       "    </tr>\n",
       "  </tbody>\n",
       "</table>\n",
       "</div>"
      ],
      "text/plain": [
       "       ORIGINAL_INTEREST_RATE  CURRENT_INTEREST_RATE   ORIGINAL_UPB  \\\n",
       "count           250000.000000          249996.000000  250000.000000   \n",
       "mean                 6.206449               6.206450  158896.052000   \n",
       "std                  0.824314               0.824321   83222.389816   \n",
       "min                  2.990000               2.990000    5000.000000   \n",
       "25%                  5.625000               5.625000   97000.000000   \n",
       "50%                  6.125000               6.125000  143000.000000   \n",
       "75%                  6.750000               6.750000  206000.000000   \n",
       "max                 11.750000              11.750000  802000.000000   \n",
       "\n",
       "       ORIGINAL_LOAN_TERM       LOAN_AGE  REM_MONTHS_LEGAL_MATURITY  \\\n",
       "count       250000.000000  249996.000000              249996.000000   \n",
       "mean           306.794856       0.558149                 306.235856   \n",
       "std             82.024687       1.568314                  82.021823   \n",
       "min             60.000000      -1.000000                  60.000000   \n",
       "25%            180.000000       0.000000                 181.000000   \n",
       "50%            360.000000       0.000000                 359.000000   \n",
       "75%            360.000000       1.000000                 360.000000   \n",
       "max            360.000000      92.000000                 361.000000   \n",
       "\n",
       "       REM_MONTHS_MATURITY            LTV           CLTV  NUMBER_OF_BORROWERS  \\\n",
       "count        249996.000000  250000.000000  246825.000000        249911.000000   \n",
       "mean            305.415391      69.442732      70.224742             1.617612   \n",
       "std              82.222904      17.419863      17.688648             0.504134   \n",
       "min               1.000000       2.000000       2.000000             1.000000   \n",
       "25%             180.000000      59.000000      60.000000             1.000000   \n",
       "50%             359.000000      74.000000      75.000000             2.000000   \n",
       "75%             360.000000      80.000000      80.000000             2.000000   \n",
       "max             361.000000      97.000000     192.000000             9.000000   \n",
       "\n",
       "                 DTI  B_CREDIT_SCORE_O  CB_CREDIT_SCORE_O  NUMBER_OF_UNITS  \\\n",
       "count  241209.000000     248300.000000      114506.000000    250000.000000   \n",
       "mean       34.024352        726.042175         733.731010         1.041412   \n",
       "std        12.942940         56.277771          54.671193         0.260049   \n",
       "min         1.000000        363.000000         359.000000         1.000000   \n",
       "25%        24.000000        687.000000         697.000000         1.000000   \n",
       "50%        33.000000        735.000000         745.000000         1.000000   \n",
       "75%        43.000000        772.000000         778.000000         1.000000   \n",
       "max        64.000000        850.000000         839.000000         4.000000   \n",
       "\n",
       "                 MSA  MORTGAGE_INSURANCE_PERCENTAGE  \n",
       "count  250000.000000                   41999.000000  \n",
       "mean    27037.665720                      22.829829  \n",
       "std     14068.680452                       7.119979  \n",
       "min         0.000000                       1.000000  \n",
       "25%     16980.000000                      17.000000  \n",
       "50%     31080.000000                      25.000000  \n",
       "75%     38860.000000                      30.000000  \n",
       "max     49740.000000                      50.000000  "
      ]
     },
     "execution_count": 745,
     "metadata": {},
     "output_type": "execute_result"
    }
   ],
   "source": [
    "#General description of the numeric data\n",
    "train_df.describe()"
   ]
  },
  {
   "cell_type": "code",
   "execution_count": 746,
   "id": "6a3d0270",
   "metadata": {
    "scrolled": false
   },
   "outputs": [
    {
     "data": {
      "image/png": "[encoded data removed]",
      "text/plain": [
       "<Figure size 432x288 with 1 Axes>"
      ]
     },
     "metadata": {
      "needs_background": "light"
     },
     "output_type": "display_data"
    },
    {
     "data": {
      "image/png": "[encoded data removed]",
      "text/plain": [
       "<Figure size 432x288 with 1 Axes>"
      ]
     },
     "metadata": {
      "needs_background": "light"
     },
     "output_type": "display_data"
    },
    {
     "data": {
      "image/png": "[encoded data removed]",
      "text/plain": [
       "<Figure size 432x288 with 1 Axes>"
      ]
     },
     "metadata": {
      "needs_background": "light"
     },
     "output_type": "display_data"
    },
    {
     "data": {
      "image/png": "[encoded data removed]",
      "text/plain": [
       "<Figure size 432x288 with 1 Axes>"
      ]
     },
     "metadata": {
      "needs_background": "light"
     },
     "output_type": "display_data"
    },
    {
     "data": {
      "image/png": "[encoded data removed]",
      "text/plain": [
       "<Figure size 432x288 with 1 Axes>"
      ]
     },
     "metadata": {
      "needs_background": "light"
     },
     "output_type": "display_data"
    },
    {
     "data": {
      "image/png": "[encoded data removed]",
      "text/plain": [
       "<Figure size 432x288 with 1 Axes>"
      ]
     },
     "metadata": {
      "needs_background": "light"
     },
     "output_type": "display_data"
    },
    {
     "data": {
      "image/png": "[encoded data removed]",
      "text/plain": [
       "<Figure size 432x288 with 1 Axes>"
      ]
     },
     "metadata": {
      "needs_background": "light"
     },
     "output_type": "display_data"
    },
    {
     "data": {
      "image/png": "[encoded data removed]",
      "text/plain": [
       "<Figure size 432x288 with 1 Axes>"
      ]
     },
     "metadata": {
      "needs_background": "light"
     },
     "output_type": "display_data"
    },
    {
     "data": {
      "image/png": "[encoded data removed]",
      "text/plain": [
       "<Figure size 432x288 with 1 Axes>"
      ]
     },
     "metadata": {
      "needs_background": "light"
     },
     "output_type": "display_data"
    },
    {
     "data": {
      "image/png": "[encoded data removed]",
      "text/plain": [
       "<Figure size 432x288 with 1 Axes>"
      ]
     },
     "metadata": {
      "needs_background": "light"
     },
     "output_type": "display_data"
    },
    {
     "data": {
      "image/png": "[encoded data removed]",
      "text/plain": [
       "<Figure size 432x288 with 1 Axes>"
      ]
     },
     "metadata": {
      "needs_background": "light"
     },
     "output_type": "display_data"
    },
    {
     "data": {
      "image/png": "[encoded data removed]",
      "text/plain": [
       "<Figure size 432x288 with 1 Axes>"
      ]
     },
     "metadata": {
      "needs_background": "light"
     },
     "output_type": "display_data"
    },
    {
     "data": {
      "image/png": "[encoded data removed]",
      "text/plain": [
       "<Figure size 432x288 with 1 Axes>"
      ]
     },
     "metadata": {
      "needs_background": "light"
     },
     "output_type": "display_data"
    },
    {
     "data": {
      "image/png": "[encoded data removed]",
      "text/plain": [
       "<Figure size 432x288 with 1 Axes>"
      ]
     },
     "metadata": {
      "needs_background": "light"
     },
     "output_type": "display_data"
    },
    {
     "data": {
      "image/png": "[encoded data removed]",
      "text/plain": [
       "<Figure size 432x288 with 1 Axes>"
      ]
     },
     "metadata": {
      "needs_background": "light"
     },
     "output_type": "display_data"
    },
    {
     "data": {
      "image/png": "[encoded data removed]",
      "text/plain": [
       "<Figure size 432x288 with 1 Axes>"
      ]
     },
     "metadata": {
      "needs_background": "light"
     },
     "output_type": "display_data"
    }
   ],
   "source": [
    "#Plotting all numeric predictors to inspect for outliers\n",
    "import matplotlib.pyplot as plt\n",
    "for col in train_df.columns:\n",
    "    if(train_df[col].dtype==float):\n",
    "        plt.figure()\n",
    "        plt.plot(train_df[col])\n",
    "        plt.title(col)"
   ]
  },
  {
   "cell_type": "markdown",
   "id": "4dc0fdcb",
   "metadata": {},
   "source": [
    "- As we can see from the above plots, there are no extreme outliers in any of the numeric features"
   ]
  },
  {
   "cell_type": "markdown",
   "id": "a2e88c27",
   "metadata": {},
   "source": [
    "# Dealing with missing data"
   ]
  },
  {
   "cell_type": "code",
   "execution_count": 747,
   "id": "93c988d8",
   "metadata": {},
   "outputs": [
    {
     "name": "stdout",
     "output_type": "stream",
     "text": [
      "CURRENT_INTEREST_RATE 4\n",
      "LOAN_AGE 4\n",
      "REM_MONTHS_LEGAL_MATURITY 4\n",
      "REM_MONTHS_MATURITY 4\n",
      "MATURITY_DATE 4\n",
      "CLTV 3175\n",
      "NUMBER_OF_BORROWERS 89\n",
      "DTI 8791\n",
      "B_CREDIT_SCORE_O 1700\n",
      "CB_CREDIT_SCORE_O 135494\n",
      "FIRST_TIME_HOME_BUYER_IND 193\n",
      "MORTGAGE_INSURANCE_PERCENTAGE 208001\n"
     ]
    }
   ],
   "source": [
    "#Finding the number of null values for all features where null values exist\n",
    "for col in train_df.columns:\n",
    "    if(train_df[col].isnull().sum()>0):\n",
    "        print(col,train_df[col].isnull().sum())"
   ]
  },
  {
   "cell_type": "markdown",
   "id": "a8508569",
   "metadata": {},
   "source": [
    "### Deleting variables"
   ]
  },
  {
   "cell_type": "markdown",
   "id": "377a9ce5",
   "metadata": {},
   "source": [
    "- CB_CREDIT_SCORE and MORTGAGE_INSURANCE_PERCENTAGE have a majority of their values missing, i.e. more than half of their values are missing\n",
    "- Any sort of imputation method would not do justice to these variables\n",
    "- Hence, deleting these two columns"
   ]
  },
  {
   "cell_type": "code",
   "execution_count": 748,
   "id": "7c91a9c8",
   "metadata": {},
   "outputs": [],
   "source": [
    "train_df.drop(['CB_CREDIT_SCORE_O','MORTGAGE_INSURANCE_PERCENTAGE'],axis=1,inplace=True)"
   ]
  },
  {
   "cell_type": "markdown",
   "id": "e55ef4c5",
   "metadata": {},
   "source": [
    "### Deleting missing values"
   ]
  },
  {
   "cell_type": "code",
   "execution_count": 749,
   "id": "a0a2209f",
   "metadata": {
    "scrolled": true
   },
   "outputs": [
    {
     "data": {
      "text/html": [
       "<div>\n",
       "<style scoped>\n",
       "    .dataframe tbody tr th:only-of-type {\n",
       "        vertical-align: middle;\n",
       "    }\n",
       "\n",
       "    .dataframe tbody tr th {\n",
       "        vertical-align: top;\n",
       "    }\n",
       "\n",
       "    .dataframe thead th {\n",
       "        text-align: right;\n",
       "    }\n",
       "</style>\n",
       "<table border=\"1\" class=\"dataframe\">\n",
       "  <thead>\n",
       "    <tr style=\"text-align: right;\">\n",
       "      <th></th>\n",
       "      <th>CURRENT_INTEREST_RATE</th>\n",
       "      <th>LOAN_AGE</th>\n",
       "      <th>REM_MONTHS_MATURITY</th>\n",
       "      <th>REM_MONTHS_LEGAL_MATURITY</th>\n",
       "      <th>MATURITY_DATE</th>\n",
       "    </tr>\n",
       "  </thead>\n",
       "  <tbody>\n",
       "    <tr>\n",
       "      <th>48055</th>\n",
       "      <td>NaN</td>\n",
       "      <td>NaN</td>\n",
       "      <td>NaN</td>\n",
       "      <td>NaN</td>\n",
       "      <td>NaT</td>\n",
       "    </tr>\n",
       "    <tr>\n",
       "      <th>51870</th>\n",
       "      <td>NaN</td>\n",
       "      <td>NaN</td>\n",
       "      <td>NaN</td>\n",
       "      <td>NaN</td>\n",
       "      <td>NaT</td>\n",
       "    </tr>\n",
       "    <tr>\n",
       "      <th>176994</th>\n",
       "      <td>NaN</td>\n",
       "      <td>NaN</td>\n",
       "      <td>NaN</td>\n",
       "      <td>NaN</td>\n",
       "      <td>NaT</td>\n",
       "    </tr>\n",
       "    <tr>\n",
       "      <th>215087</th>\n",
       "      <td>NaN</td>\n",
       "      <td>NaN</td>\n",
       "      <td>NaN</td>\n",
       "      <td>NaN</td>\n",
       "      <td>NaT</td>\n",
       "    </tr>\n",
       "  </tbody>\n",
       "</table>\n",
       "</div>"
      ],
      "text/plain": [
       "        CURRENT_INTEREST_RATE  LOAN_AGE  REM_MONTHS_MATURITY  \\\n",
       "48055                     NaN       NaN                  NaN   \n",
       "51870                     NaN       NaN                  NaN   \n",
       "176994                    NaN       NaN                  NaN   \n",
       "215087                    NaN       NaN                  NaN   \n",
       "\n",
       "        REM_MONTHS_LEGAL_MATURITY MATURITY_DATE  \n",
       "48055                         NaN           NaT  \n",
       "51870                         NaN           NaT  \n",
       "176994                        NaN           NaT  \n",
       "215087                        NaN           NaT  "
      ]
     },
     "execution_count": 749,
     "metadata": {},
     "output_type": "execute_result"
    }
   ],
   "source": [
    "train_df.loc[train_df['CURRENT_INTEREST_RATE'].isna()][['CURRENT_INTEREST_RATE','LOAN_AGE','REM_MONTHS_MATURITY','REM_MONTHS_LEGAL_MATURITY','MATURITY_DATE']]"
   ]
  },
  {
   "cell_type": "code",
   "execution_count": 750,
   "id": "055870ae",
   "metadata": {},
   "outputs": [
    {
     "data": {
      "text/html": [
       "<div>\n",
       "<style scoped>\n",
       "    .dataframe tbody tr th:only-of-type {\n",
       "        vertical-align: middle;\n",
       "    }\n",
       "\n",
       "    .dataframe tbody tr th {\n",
       "        vertical-align: top;\n",
       "    }\n",
       "\n",
       "    .dataframe thead th {\n",
       "        text-align: right;\n",
       "    }\n",
       "</style>\n",
       "<table border=\"1\" class=\"dataframe\">\n",
       "  <thead>\n",
       "    <tr style=\"text-align: right;\">\n",
       "      <th></th>\n",
       "      <th>FORECLOSURE</th>\n",
       "      <th>NMONTHS</th>\n",
       "    </tr>\n",
       "  </thead>\n",
       "  <tbody>\n",
       "    <tr>\n",
       "      <th>48055</th>\n",
       "      <td>0.0</td>\n",
       "      <td>1.0</td>\n",
       "    </tr>\n",
       "    <tr>\n",
       "      <th>51870</th>\n",
       "      <td>0.0</td>\n",
       "      <td>1.0</td>\n",
       "    </tr>\n",
       "    <tr>\n",
       "      <th>176994</th>\n",
       "      <td>0.0</td>\n",
       "      <td>1.0</td>\n",
       "    </tr>\n",
       "    <tr>\n",
       "      <th>215087</th>\n",
       "      <td>0.0</td>\n",
       "      <td>1.0</td>\n",
       "    </tr>\n",
       "  </tbody>\n",
       "</table>\n",
       "</div>"
      ],
      "text/plain": [
       "        FORECLOSURE  NMONTHS\n",
       "48055           0.0      1.0\n",
       "51870           0.0      1.0\n",
       "176994          0.0      1.0\n",
       "215087          0.0      1.0"
      ]
     },
     "execution_count": 750,
     "metadata": {},
     "output_type": "execute_result"
    }
   ],
   "source": [
    "y.loc[y['NMONTHS']==1]"
   ]
  },
  {
   "cell_type": "markdown",
   "id": "8fdd4c16",
   "metadata": {},
   "source": [
    "- As we can see here, the data points for which these 5 above mentioned features are null are the same data points.\n",
    "- A further observation can be made that these values occur exactly wherever NMONTHS=1.\n",
    "- Hence, deleting all these 4 data points."
   ]
  },
  {
   "cell_type": "code",
   "execution_count": 751,
   "id": "138bad25",
   "metadata": {},
   "outputs": [],
   "source": [
    "train_df.drop(y.loc[y['NMONTHS']==1].index,inplace=True)\n",
    "y.drop(y.loc[y['NMONTHS']==1].index,inplace=True)"
   ]
  },
  {
   "cell_type": "code",
   "execution_count": 752,
   "id": "49ab9388",
   "metadata": {},
   "outputs": [
    {
     "data": {
      "text/html": [
       "<div>\n",
       "<style scoped>\n",
       "    .dataframe tbody tr th:only-of-type {\n",
       "        vertical-align: middle;\n",
       "    }\n",
       "\n",
       "    .dataframe tbody tr th {\n",
       "        vertical-align: top;\n",
       "    }\n",
       "\n",
       "    .dataframe thead th {\n",
       "        text-align: right;\n",
       "    }\n",
       "</style>\n",
       "<table border=\"1\" class=\"dataframe\">\n",
       "  <thead>\n",
       "    <tr style=\"text-align: right;\">\n",
       "      <th></th>\n",
       "      <th>LOAN_ID</th>\n",
       "      <th>MONTHLY_REPORTING_PERIOD</th>\n",
       "      <th>CHANNEL</th>\n",
       "      <th>ORIGINAL_INTEREST_RATE</th>\n",
       "      <th>CURRENT_INTEREST_RATE</th>\n",
       "      <th>ORIGINAL_UPB</th>\n",
       "      <th>ORIGINAL_LOAN_TERM</th>\n",
       "      <th>ORIGINATION_DATE</th>\n",
       "      <th>FIRST_PAYMENT_DATE</th>\n",
       "      <th>LOAN_AGE</th>\n",
       "      <th>...</th>\n",
       "      <th>DTI</th>\n",
       "      <th>B_CREDIT_SCORE_O</th>\n",
       "      <th>FIRST_TIME_HOME_BUYER_IND</th>\n",
       "      <th>LOAN_PURPOSE</th>\n",
       "      <th>PROPERTY_TYPE</th>\n",
       "      <th>NUMBER_OF_UNITS</th>\n",
       "      <th>OCCUPANCY_STATUS</th>\n",
       "      <th>PROPERTY_STATE</th>\n",
       "      <th>MSA</th>\n",
       "      <th>ZIP_CODE_SHORT</th>\n",
       "    </tr>\n",
       "  </thead>\n",
       "  <tbody>\n",
       "    <tr>\n",
       "      <th>1465</th>\n",
       "      <td>IHBHJAFBBEBH</td>\n",
       "      <td>2000-12-01</td>\n",
       "      <td>B</td>\n",
       "      <td>8.375</td>\n",
       "      <td>8.375</td>\n",
       "      <td>72000.0</td>\n",
       "      <td>360.0</td>\n",
       "      <td>2000-10-01</td>\n",
       "      <td>2000-12-01</td>\n",
       "      <td>1.0</td>\n",
       "      <td>...</td>\n",
       "      <td>35.0</td>\n",
       "      <td>749.0</td>\n",
       "      <td>NaN</td>\n",
       "      <td>P</td>\n",
       "      <td>SF</td>\n",
       "      <td>1.0</td>\n",
       "      <td>P</td>\n",
       "      <td>KY</td>\n",
       "      <td>30460.0</td>\n",
       "      <td>405</td>\n",
       "    </tr>\n",
       "    <tr>\n",
       "      <th>2683</th>\n",
       "      <td>HJIHHDBHJAEJ</td>\n",
       "      <td>2006-09-01</td>\n",
       "      <td>R</td>\n",
       "      <td>6.750</td>\n",
       "      <td>6.750</td>\n",
       "      <td>108000.0</td>\n",
       "      <td>360.0</td>\n",
       "      <td>2006-08-01</td>\n",
       "      <td>2006-10-01</td>\n",
       "      <td>0.0</td>\n",
       "      <td>...</td>\n",
       "      <td>24.0</td>\n",
       "      <td>727.0</td>\n",
       "      <td>NaN</td>\n",
       "      <td>P</td>\n",
       "      <td>SF</td>\n",
       "      <td>1.0</td>\n",
       "      <td>I</td>\n",
       "      <td>CO</td>\n",
       "      <td>22660.0</td>\n",
       "      <td>805</td>\n",
       "    </tr>\n",
       "    <tr>\n",
       "      <th>2947</th>\n",
       "      <td>HDFECGHCEEHD</td>\n",
       "      <td>2001-08-01</td>\n",
       "      <td>R</td>\n",
       "      <td>7.250</td>\n",
       "      <td>7.250</td>\n",
       "      <td>128000.0</td>\n",
       "      <td>360.0</td>\n",
       "      <td>2001-05-01</td>\n",
       "      <td>2001-07-01</td>\n",
       "      <td>2.0</td>\n",
       "      <td>...</td>\n",
       "      <td>9.0</td>\n",
       "      <td>774.0</td>\n",
       "      <td>NaN</td>\n",
       "      <td>P</td>\n",
       "      <td>SF</td>\n",
       "      <td>1.0</td>\n",
       "      <td>P</td>\n",
       "      <td>CA</td>\n",
       "      <td>0.0</td>\n",
       "      <td>949</td>\n",
       "    </tr>\n",
       "    <tr>\n",
       "      <th>3288</th>\n",
       "      <td>DGCBEECEBAFH</td>\n",
       "      <td>2003-01-01</td>\n",
       "      <td>R</td>\n",
       "      <td>6.125</td>\n",
       "      <td>6.125</td>\n",
       "      <td>280000.0</td>\n",
       "      <td>360.0</td>\n",
       "      <td>2002-11-01</td>\n",
       "      <td>2003-01-01</td>\n",
       "      <td>1.0</td>\n",
       "      <td>...</td>\n",
       "      <td>NaN</td>\n",
       "      <td>779.0</td>\n",
       "      <td>N</td>\n",
       "      <td>C</td>\n",
       "      <td>SF</td>\n",
       "      <td>1.0</td>\n",
       "      <td>P</td>\n",
       "      <td>MA</td>\n",
       "      <td>14460.0</td>\n",
       "      <td>018</td>\n",
       "    </tr>\n",
       "    <tr>\n",
       "      <th>3542</th>\n",
       "      <td>FBEHDDDFIDCJ</td>\n",
       "      <td>2003-05-01</td>\n",
       "      <td>R</td>\n",
       "      <td>6.250</td>\n",
       "      <td>6.250</td>\n",
       "      <td>245000.0</td>\n",
       "      <td>360.0</td>\n",
       "      <td>2003-05-01</td>\n",
       "      <td>2003-07-01</td>\n",
       "      <td>-1.0</td>\n",
       "      <td>...</td>\n",
       "      <td>29.0</td>\n",
       "      <td>705.0</td>\n",
       "      <td>NaN</td>\n",
       "      <td>P</td>\n",
       "      <td>SF</td>\n",
       "      <td>1.0</td>\n",
       "      <td>I</td>\n",
       "      <td>CA</td>\n",
       "      <td>31100.0</td>\n",
       "      <td>913</td>\n",
       "    </tr>\n",
       "    <tr>\n",
       "      <th>...</th>\n",
       "      <td>...</td>\n",
       "      <td>...</td>\n",
       "      <td>...</td>\n",
       "      <td>...</td>\n",
       "      <td>...</td>\n",
       "      <td>...</td>\n",
       "      <td>...</td>\n",
       "      <td>...</td>\n",
       "      <td>...</td>\n",
       "      <td>...</td>\n",
       "      <td>...</td>\n",
       "      <td>...</td>\n",
       "      <td>...</td>\n",
       "      <td>...</td>\n",
       "      <td>...</td>\n",
       "      <td>...</td>\n",
       "      <td>...</td>\n",
       "      <td>...</td>\n",
       "      <td>...</td>\n",
       "      <td>...</td>\n",
       "      <td>...</td>\n",
       "    </tr>\n",
       "    <tr>\n",
       "      <th>244537</th>\n",
       "      <td>JDFFAIIAHHHF</td>\n",
       "      <td>2003-08-01</td>\n",
       "      <td>R</td>\n",
       "      <td>5.250</td>\n",
       "      <td>5.250</td>\n",
       "      <td>297000.0</td>\n",
       "      <td>360.0</td>\n",
       "      <td>2003-07-01</td>\n",
       "      <td>2003-09-01</td>\n",
       "      <td>0.0</td>\n",
       "      <td>...</td>\n",
       "      <td>32.0</td>\n",
       "      <td>687.0</td>\n",
       "      <td>NaN</td>\n",
       "      <td>R</td>\n",
       "      <td>SF</td>\n",
       "      <td>1.0</td>\n",
       "      <td>P</td>\n",
       "      <td>MD</td>\n",
       "      <td>12580.0</td>\n",
       "      <td>214</td>\n",
       "    </tr>\n",
       "    <tr>\n",
       "      <th>246539</th>\n",
       "      <td>EFFJDGCAEIAA</td>\n",
       "      <td>2003-07-01</td>\n",
       "      <td>R</td>\n",
       "      <td>4.875</td>\n",
       "      <td>4.875</td>\n",
       "      <td>50000.0</td>\n",
       "      <td>180.0</td>\n",
       "      <td>2003-06-01</td>\n",
       "      <td>2003-08-01</td>\n",
       "      <td>0.0</td>\n",
       "      <td>...</td>\n",
       "      <td>40.0</td>\n",
       "      <td>779.0</td>\n",
       "      <td>NaN</td>\n",
       "      <td>P</td>\n",
       "      <td>SF</td>\n",
       "      <td>1.0</td>\n",
       "      <td>I</td>\n",
       "      <td>SC</td>\n",
       "      <td>17900.0</td>\n",
       "      <td>292</td>\n",
       "    </tr>\n",
       "    <tr>\n",
       "      <th>246856</th>\n",
       "      <td>FGIJFEJIFHEH</td>\n",
       "      <td>2008-08-01</td>\n",
       "      <td>B</td>\n",
       "      <td>5.750</td>\n",
       "      <td>5.750</td>\n",
       "      <td>416000.0</td>\n",
       "      <td>360.0</td>\n",
       "      <td>2008-04-01</td>\n",
       "      <td>2008-06-01</td>\n",
       "      <td>3.0</td>\n",
       "      <td>...</td>\n",
       "      <td>60.0</td>\n",
       "      <td>750.0</td>\n",
       "      <td>NaN</td>\n",
       "      <td>C</td>\n",
       "      <td>SF</td>\n",
       "      <td>1.0</td>\n",
       "      <td>P</td>\n",
       "      <td>CA</td>\n",
       "      <td>37100.0</td>\n",
       "      <td>930</td>\n",
       "    </tr>\n",
       "    <tr>\n",
       "      <th>247013</th>\n",
       "      <td>GHHJJIDEIDFC</td>\n",
       "      <td>2001-12-01</td>\n",
       "      <td>R</td>\n",
       "      <td>6.250</td>\n",
       "      <td>6.250</td>\n",
       "      <td>98000.0</td>\n",
       "      <td>180.0</td>\n",
       "      <td>2001-05-01</td>\n",
       "      <td>2001-07-01</td>\n",
       "      <td>6.0</td>\n",
       "      <td>...</td>\n",
       "      <td>NaN</td>\n",
       "      <td>780.0</td>\n",
       "      <td>N</td>\n",
       "      <td>R</td>\n",
       "      <td>SF</td>\n",
       "      <td>1.0</td>\n",
       "      <td>P</td>\n",
       "      <td>PA</td>\n",
       "      <td>38300.0</td>\n",
       "      <td>160</td>\n",
       "    </tr>\n",
       "    <tr>\n",
       "      <th>249095</th>\n",
       "      <td>FDGAHGHEDFII</td>\n",
       "      <td>2001-01-01</td>\n",
       "      <td>R</td>\n",
       "      <td>8.125</td>\n",
       "      <td>8.125</td>\n",
       "      <td>264000.0</td>\n",
       "      <td>360.0</td>\n",
       "      <td>2000-11-01</td>\n",
       "      <td>2001-01-01</td>\n",
       "      <td>1.0</td>\n",
       "      <td>...</td>\n",
       "      <td>NaN</td>\n",
       "      <td>757.0</td>\n",
       "      <td>NaN</td>\n",
       "      <td>P</td>\n",
       "      <td>SF</td>\n",
       "      <td>1.0</td>\n",
       "      <td>P</td>\n",
       "      <td>VA</td>\n",
       "      <td>47900.0</td>\n",
       "      <td>220</td>\n",
       "    </tr>\n",
       "  </tbody>\n",
       "</table>\n",
       "<p>250 rows × 26 columns</p>\n",
       "</div>"
      ],
      "text/plain": [
       "             LOAN_ID MONTHLY_REPORTING_PERIOD CHANNEL  ORIGINAL_INTEREST_RATE  \\\n",
       "1465    IHBHJAFBBEBH               2000-12-01       B                   8.375   \n",
       "2683    HJIHHDBHJAEJ               2006-09-01       R                   6.750   \n",
       "2947    HDFECGHCEEHD               2001-08-01       R                   7.250   \n",
       "3288    DGCBEECEBAFH               2003-01-01       R                   6.125   \n",
       "3542    FBEHDDDFIDCJ               2003-05-01       R                   6.250   \n",
       "...              ...                      ...     ...                     ...   \n",
       "244537  JDFFAIIAHHHF               2003-08-01       R                   5.250   \n",
       "246539  EFFJDGCAEIAA               2003-07-01       R                   4.875   \n",
       "246856  FGIJFEJIFHEH               2008-08-01       B                   5.750   \n",
       "247013  GHHJJIDEIDFC               2001-12-01       R                   6.250   \n",
       "249095  FDGAHGHEDFII               2001-01-01       R                   8.125   \n",
       "\n",
       "        CURRENT_INTEREST_RATE  ORIGINAL_UPB  ORIGINAL_LOAN_TERM  \\\n",
       "1465                    8.375       72000.0               360.0   \n",
       "2683                    6.750      108000.0               360.0   \n",
       "2947                    7.250      128000.0               360.0   \n",
       "3288                    6.125      280000.0               360.0   \n",
       "3542                    6.250      245000.0               360.0   \n",
       "...                       ...           ...                 ...   \n",
       "244537                  5.250      297000.0               360.0   \n",
       "246539                  4.875       50000.0               180.0   \n",
       "246856                  5.750      416000.0               360.0   \n",
       "247013                  6.250       98000.0               180.0   \n",
       "249095                  8.125      264000.0               360.0   \n",
       "\n",
       "       ORIGINATION_DATE FIRST_PAYMENT_DATE  LOAN_AGE  ...   DTI  \\\n",
       "1465         2000-10-01         2000-12-01       1.0  ...  35.0   \n",
       "2683         2006-08-01         2006-10-01       0.0  ...  24.0   \n",
       "2947         2001-05-01         2001-07-01       2.0  ...   9.0   \n",
       "3288         2002-11-01         2003-01-01       1.0  ...   NaN   \n",
       "3542         2003-05-01         2003-07-01      -1.0  ...  29.0   \n",
       "...                 ...                ...       ...  ...   ...   \n",
       "244537       2003-07-01         2003-09-01       0.0  ...  32.0   \n",
       "246539       2003-06-01         2003-08-01       0.0  ...  40.0   \n",
       "246856       2008-04-01         2008-06-01       3.0  ...  60.0   \n",
       "247013       2001-05-01         2001-07-01       6.0  ...   NaN   \n",
       "249095       2000-11-01         2001-01-01       1.0  ...   NaN   \n",
       "\n",
       "        B_CREDIT_SCORE_O FIRST_TIME_HOME_BUYER_IND  LOAN_PURPOSE  \\\n",
       "1465               749.0                       NaN             P   \n",
       "2683               727.0                       NaN             P   \n",
       "2947               774.0                       NaN             P   \n",
       "3288               779.0                         N             C   \n",
       "3542               705.0                       NaN             P   \n",
       "...                  ...                       ...           ...   \n",
       "244537             687.0                       NaN             R   \n",
       "246539             779.0                       NaN             P   \n",
       "246856             750.0                       NaN             C   \n",
       "247013             780.0                         N             R   \n",
       "249095             757.0                       NaN             P   \n",
       "\n",
       "        PROPERTY_TYPE  NUMBER_OF_UNITS  OCCUPANCY_STATUS  PROPERTY_STATE  \\\n",
       "1465               SF              1.0                 P              KY   \n",
       "2683               SF              1.0                 I              CO   \n",
       "2947               SF              1.0                 P              CA   \n",
       "3288               SF              1.0                 P              MA   \n",
       "3542               SF              1.0                 I              CA   \n",
       "...               ...              ...               ...             ...   \n",
       "244537             SF              1.0                 P              MD   \n",
       "246539             SF              1.0                 I              SC   \n",
       "246856             SF              1.0                 P              CA   \n",
       "247013             SF              1.0                 P              PA   \n",
       "249095             SF              1.0                 P              VA   \n",
       "\n",
       "            MSA ZIP_CODE_SHORT  \n",
       "1465    30460.0            405  \n",
       "2683    22660.0            805  \n",
       "2947        0.0            949  \n",
       "3288    14460.0            018  \n",
       "3542    31100.0            913  \n",
       "...         ...            ...  \n",
       "244537  12580.0            214  \n",
       "246539  17900.0            292  \n",
       "246856  37100.0            930  \n",
       "247013  38300.0            160  \n",
       "249095  47900.0            220  \n",
       "\n",
       "[250 rows x 26 columns]"
      ]
     },
     "execution_count": 752,
     "metadata": {},
     "output_type": "execute_result"
    }
   ],
   "source": [
    "train_df.loc[(train_df['NUMBER_OF_BORROWERS'].isna()) | (train_df['FIRST_TIME_HOME_BUYER_IND'].isna())]"
   ]
  },
  {
   "cell_type": "markdown",
   "id": "4dfbb6a9",
   "metadata": {},
   "source": [
    "- We can see that rows having null values in NUMBER_OF_BORROWERS or in FIRST_TIME_HOME_BUYER_IND are a total of 250, which is just 0.1% of the data points, i.e. a very insignificant amount.\n",
    "- Also, these values seem to be missing randomly, probably due to some human error.\n",
    "- Hence, deleting all these data points too."
   ]
  },
  {
   "cell_type": "code",
   "execution_count": 753,
   "id": "9cddf98d",
   "metadata": {},
   "outputs": [],
   "source": [
    "remove_index=train_df.loc[(train_df['NUMBER_OF_BORROWERS'].isna()) | (train_df['FIRST_TIME_HOME_BUYER_IND'].isna())].index\n",
    "train_df.drop(remove_index,inplace=True)\n",
    "y.drop(remove_index,inplace=True)"
   ]
  },
  {
   "cell_type": "code",
   "execution_count": 754,
   "id": "864bdcd4",
   "metadata": {},
   "outputs": [
    {
     "data": {
      "text/plain": [
       "((249746, 26), (249746, 2))"
      ]
     },
     "execution_count": 754,
     "metadata": {},
     "output_type": "execute_result"
    }
   ],
   "source": [
    "train_df.shape, y.shape"
   ]
  },
  {
   "cell_type": "markdown",
   "id": "8da56418",
   "metadata": {},
   "source": [
    "### Imputing missing values"
   ]
  },
  {
   "cell_type": "code",
   "execution_count": 755,
   "id": "87564331",
   "metadata": {},
   "outputs": [
    {
     "name": "stdout",
     "output_type": "stream",
     "text": [
      "CLTV 3169\n",
      "DTI 8677\n",
      "B_CREDIT_SCORE_O 1668\n"
     ]
    }
   ],
   "source": [
    "#Finding the number of null values for all features where null values exist\n",
    "for col in train_df.columns:\n",
    "    if(train_df[col].isnull().sum()>0):\n",
    "        print(col,train_df[col].isnull().sum())"
   ]
  },
  {
   "cell_type": "markdown",
   "id": "fd33917a",
   "metadata": {},
   "source": [
    "- The number of data points having null values in the above given features are too high to delete those data points. \n",
    "- Hence, various imputation methods are used for these features"
   ]
  },
  {
   "cell_type": "markdown",
   "id": "b6cf99bd",
   "metadata": {},
   "source": [
    "- Starting with CLTV (Combined Loan To Value), this value defines a ratio of all combined loan values to the value of the property.\n",
    "- It is a generalized case of LTV (Loan To Value), wherein the number of loans taken by the individual is more than 1.\n",
    "- Whenever an individual has only one loan, it does not make sense to have a CLTV ratio for them. \n",
    "- This is probably why 3169 values for CLTV are null. They could be for the individuals who have taken only one loan.\n",
    "- Mathematically, for people who have taken only one loan, the value of LTV is equal to the value of CLTV.\n",
    "- Also, looking at the statistical measures of LTV and CLTV, they are very similar to each other.\n",
    "- Hence, replacing all the null values of CLTV with the corresponding LTV values"
   ]
  },
  {
   "cell_type": "code",
   "execution_count": 756,
   "id": "0e26683c",
   "metadata": {},
   "outputs": [
    {
     "data": {
      "text/html": [
       "<div>\n",
       "<style scoped>\n",
       "    .dataframe tbody tr th:only-of-type {\n",
       "        vertical-align: middle;\n",
       "    }\n",
       "\n",
       "    .dataframe tbody tr th {\n",
       "        vertical-align: top;\n",
       "    }\n",
       "\n",
       "    .dataframe thead th {\n",
       "        text-align: right;\n",
       "    }\n",
       "</style>\n",
       "<table border=\"1\" class=\"dataframe\">\n",
       "  <thead>\n",
       "    <tr style=\"text-align: right;\">\n",
       "      <th></th>\n",
       "      <th>LTV</th>\n",
       "      <th>CLTV</th>\n",
       "    </tr>\n",
       "  </thead>\n",
       "  <tbody>\n",
       "    <tr>\n",
       "      <th>168</th>\n",
       "      <td>68.0</td>\n",
       "      <td>NaN</td>\n",
       "    </tr>\n",
       "    <tr>\n",
       "      <th>300</th>\n",
       "      <td>61.0</td>\n",
       "      <td>NaN</td>\n",
       "    </tr>\n",
       "    <tr>\n",
       "      <th>462</th>\n",
       "      <td>95.0</td>\n",
       "      <td>NaN</td>\n",
       "    </tr>\n",
       "    <tr>\n",
       "      <th>466</th>\n",
       "      <td>90.0</td>\n",
       "      <td>NaN</td>\n",
       "    </tr>\n",
       "    <tr>\n",
       "      <th>685</th>\n",
       "      <td>77.0</td>\n",
       "      <td>NaN</td>\n",
       "    </tr>\n",
       "    <tr>\n",
       "      <th>...</th>\n",
       "      <td>...</td>\n",
       "      <td>...</td>\n",
       "    </tr>\n",
       "    <tr>\n",
       "      <th>249440</th>\n",
       "      <td>97.0</td>\n",
       "      <td>NaN</td>\n",
       "    </tr>\n",
       "    <tr>\n",
       "      <th>249491</th>\n",
       "      <td>95.0</td>\n",
       "      <td>NaN</td>\n",
       "    </tr>\n",
       "    <tr>\n",
       "      <th>249526</th>\n",
       "      <td>74.0</td>\n",
       "      <td>NaN</td>\n",
       "    </tr>\n",
       "    <tr>\n",
       "      <th>249680</th>\n",
       "      <td>90.0</td>\n",
       "      <td>NaN</td>\n",
       "    </tr>\n",
       "    <tr>\n",
       "      <th>249947</th>\n",
       "      <td>80.0</td>\n",
       "      <td>NaN</td>\n",
       "    </tr>\n",
       "  </tbody>\n",
       "</table>\n",
       "<p>3169 rows × 2 columns</p>\n",
       "</div>"
      ],
      "text/plain": [
       "         LTV  CLTV\n",
       "168     68.0   NaN\n",
       "300     61.0   NaN\n",
       "462     95.0   NaN\n",
       "466     90.0   NaN\n",
       "685     77.0   NaN\n",
       "...      ...   ...\n",
       "249440  97.0   NaN\n",
       "249491  95.0   NaN\n",
       "249526  74.0   NaN\n",
       "249680  90.0   NaN\n",
       "249947  80.0   NaN\n",
       "\n",
       "[3169 rows x 2 columns]"
      ]
     },
     "execution_count": 756,
     "metadata": {},
     "output_type": "execute_result"
    }
   ],
   "source": [
    "CLTV_null_index=train_df.loc[train_df['CLTV'].isna()].index\n",
    "train_df.loc[CLTV_null_index][['LTV','CLTV']]"
   ]
  },
  {
   "cell_type": "code",
   "execution_count": 757,
   "id": "52ad9d83",
   "metadata": {
    "scrolled": false
   },
   "outputs": [
    {
     "data": {
      "text/html": [
       "<div>\n",
       "<style scoped>\n",
       "    .dataframe tbody tr th:only-of-type {\n",
       "        vertical-align: middle;\n",
       "    }\n",
       "\n",
       "    .dataframe tbody tr th {\n",
       "        vertical-align: top;\n",
       "    }\n",
       "\n",
       "    .dataframe thead th {\n",
       "        text-align: right;\n",
       "    }\n",
       "</style>\n",
       "<table border=\"1\" class=\"dataframe\">\n",
       "  <thead>\n",
       "    <tr style=\"text-align: right;\">\n",
       "      <th></th>\n",
       "      <th>LTV</th>\n",
       "      <th>CLTV</th>\n",
       "    </tr>\n",
       "  </thead>\n",
       "  <tbody>\n",
       "    <tr>\n",
       "      <th>168</th>\n",
       "      <td>68.0</td>\n",
       "      <td>68.0</td>\n",
       "    </tr>\n",
       "    <tr>\n",
       "      <th>300</th>\n",
       "      <td>61.0</td>\n",
       "      <td>61.0</td>\n",
       "    </tr>\n",
       "    <tr>\n",
       "      <th>462</th>\n",
       "      <td>95.0</td>\n",
       "      <td>95.0</td>\n",
       "    </tr>\n",
       "    <tr>\n",
       "      <th>466</th>\n",
       "      <td>90.0</td>\n",
       "      <td>90.0</td>\n",
       "    </tr>\n",
       "    <tr>\n",
       "      <th>685</th>\n",
       "      <td>77.0</td>\n",
       "      <td>77.0</td>\n",
       "    </tr>\n",
       "    <tr>\n",
       "      <th>...</th>\n",
       "      <td>...</td>\n",
       "      <td>...</td>\n",
       "    </tr>\n",
       "    <tr>\n",
       "      <th>249440</th>\n",
       "      <td>97.0</td>\n",
       "      <td>97.0</td>\n",
       "    </tr>\n",
       "    <tr>\n",
       "      <th>249491</th>\n",
       "      <td>95.0</td>\n",
       "      <td>95.0</td>\n",
       "    </tr>\n",
       "    <tr>\n",
       "      <th>249526</th>\n",
       "      <td>74.0</td>\n",
       "      <td>74.0</td>\n",
       "    </tr>\n",
       "    <tr>\n",
       "      <th>249680</th>\n",
       "      <td>90.0</td>\n",
       "      <td>90.0</td>\n",
       "    </tr>\n",
       "    <tr>\n",
       "      <th>249947</th>\n",
       "      <td>80.0</td>\n",
       "      <td>80.0</td>\n",
       "    </tr>\n",
       "  </tbody>\n",
       "</table>\n",
       "<p>3169 rows × 2 columns</p>\n",
       "</div>"
      ],
      "text/plain": [
       "         LTV  CLTV\n",
       "168     68.0  68.0\n",
       "300     61.0  61.0\n",
       "462     95.0  95.0\n",
       "466     90.0  90.0\n",
       "685     77.0  77.0\n",
       "...      ...   ...\n",
       "249440  97.0  97.0\n",
       "249491  95.0  95.0\n",
       "249526  74.0  74.0\n",
       "249680  90.0  90.0\n",
       "249947  80.0  80.0\n",
       "\n",
       "[3169 rows x 2 columns]"
      ]
     },
     "execution_count": 757,
     "metadata": {},
     "output_type": "execute_result"
    }
   ],
   "source": [
    "train_df['CLTV'].fillna(train_df['LTV'],inplace=True)\n",
    "train_df.loc[CLTV_null_index][['LTV','CLTV']]"
   ]
  },
  {
   "cell_type": "markdown",
   "id": "20a2fe7e",
   "metadata": {},
   "source": [
    "- Filling up the null values in DTI and B_CREDIT_SCORE_O with their median values"
   ]
  },
  {
   "cell_type": "code",
   "execution_count": 758,
   "id": "fb9e67f6",
   "metadata": {},
   "outputs": [
    {
     "data": {
      "text/html": [
       "<div>\n",
       "<style scoped>\n",
       "    .dataframe tbody tr th:only-of-type {\n",
       "        vertical-align: middle;\n",
       "    }\n",
       "\n",
       "    .dataframe tbody tr th {\n",
       "        vertical-align: top;\n",
       "    }\n",
       "\n",
       "    .dataframe thead th {\n",
       "        text-align: right;\n",
       "    }\n",
       "</style>\n",
       "<table border=\"1\" class=\"dataframe\">\n",
       "  <thead>\n",
       "    <tr style=\"text-align: right;\">\n",
       "      <th></th>\n",
       "      <th>DTI</th>\n",
       "    </tr>\n",
       "  </thead>\n",
       "  <tbody>\n",
       "    <tr>\n",
       "      <th>101</th>\n",
       "      <td>NaN</td>\n",
       "    </tr>\n",
       "    <tr>\n",
       "      <th>113</th>\n",
       "      <td>NaN</td>\n",
       "    </tr>\n",
       "    <tr>\n",
       "      <th>123</th>\n",
       "      <td>NaN</td>\n",
       "    </tr>\n",
       "    <tr>\n",
       "      <th>139</th>\n",
       "      <td>NaN</td>\n",
       "    </tr>\n",
       "    <tr>\n",
       "      <th>197</th>\n",
       "      <td>NaN</td>\n",
       "    </tr>\n",
       "    <tr>\n",
       "      <th>...</th>\n",
       "      <td>...</td>\n",
       "    </tr>\n",
       "    <tr>\n",
       "      <th>249859</th>\n",
       "      <td>NaN</td>\n",
       "    </tr>\n",
       "    <tr>\n",
       "      <th>249865</th>\n",
       "      <td>NaN</td>\n",
       "    </tr>\n",
       "    <tr>\n",
       "      <th>249924</th>\n",
       "      <td>NaN</td>\n",
       "    </tr>\n",
       "    <tr>\n",
       "      <th>249966</th>\n",
       "      <td>NaN</td>\n",
       "    </tr>\n",
       "    <tr>\n",
       "      <th>249998</th>\n",
       "      <td>NaN</td>\n",
       "    </tr>\n",
       "  </tbody>\n",
       "</table>\n",
       "<p>8677 rows × 1 columns</p>\n",
       "</div>"
      ],
      "text/plain": [
       "        DTI\n",
       "101     NaN\n",
       "113     NaN\n",
       "123     NaN\n",
       "139     NaN\n",
       "197     NaN\n",
       "...     ...\n",
       "249859  NaN\n",
       "249865  NaN\n",
       "249924  NaN\n",
       "249966  NaN\n",
       "249998  NaN\n",
       "\n",
       "[8677 rows x 1 columns]"
      ]
     },
     "execution_count": 758,
     "metadata": {},
     "output_type": "execute_result"
    }
   ],
   "source": [
    "DTI_null_index=train_df.loc[train_df['DTI'].isna()].index\n",
    "train_df.loc[DTI_null_index][['DTI']]"
   ]
  },
  {
   "cell_type": "code",
   "execution_count": 759,
   "id": "aae50b2a",
   "metadata": {},
   "outputs": [
    {
     "data": {
      "text/html": [
       "<div>\n",
       "<style scoped>\n",
       "    .dataframe tbody tr th:only-of-type {\n",
       "        vertical-align: middle;\n",
       "    }\n",
       "\n",
       "    .dataframe tbody tr th {\n",
       "        vertical-align: top;\n",
       "    }\n",
       "\n",
       "    .dataframe thead th {\n",
       "        text-align: right;\n",
       "    }\n",
       "</style>\n",
       "<table border=\"1\" class=\"dataframe\">\n",
       "  <thead>\n",
       "    <tr style=\"text-align: right;\">\n",
       "      <th></th>\n",
       "      <th>DTI</th>\n",
       "    </tr>\n",
       "  </thead>\n",
       "  <tbody>\n",
       "    <tr>\n",
       "      <th>101</th>\n",
       "      <td>33.0</td>\n",
       "    </tr>\n",
       "    <tr>\n",
       "      <th>113</th>\n",
       "      <td>33.0</td>\n",
       "    </tr>\n",
       "    <tr>\n",
       "      <th>123</th>\n",
       "      <td>33.0</td>\n",
       "    </tr>\n",
       "    <tr>\n",
       "      <th>139</th>\n",
       "      <td>33.0</td>\n",
       "    </tr>\n",
       "    <tr>\n",
       "      <th>197</th>\n",
       "      <td>33.0</td>\n",
       "    </tr>\n",
       "    <tr>\n",
       "      <th>...</th>\n",
       "      <td>...</td>\n",
       "    </tr>\n",
       "    <tr>\n",
       "      <th>249859</th>\n",
       "      <td>33.0</td>\n",
       "    </tr>\n",
       "    <tr>\n",
       "      <th>249865</th>\n",
       "      <td>33.0</td>\n",
       "    </tr>\n",
       "    <tr>\n",
       "      <th>249924</th>\n",
       "      <td>33.0</td>\n",
       "    </tr>\n",
       "    <tr>\n",
       "      <th>249966</th>\n",
       "      <td>33.0</td>\n",
       "    </tr>\n",
       "    <tr>\n",
       "      <th>249998</th>\n",
       "      <td>33.0</td>\n",
       "    </tr>\n",
       "  </tbody>\n",
       "</table>\n",
       "<p>8677 rows × 1 columns</p>\n",
       "</div>"
      ],
      "text/plain": [
       "         DTI\n",
       "101     33.0\n",
       "113     33.0\n",
       "123     33.0\n",
       "139     33.0\n",
       "197     33.0\n",
       "...      ...\n",
       "249859  33.0\n",
       "249865  33.0\n",
       "249924  33.0\n",
       "249966  33.0\n",
       "249998  33.0\n",
       "\n",
       "[8677 rows x 1 columns]"
      ]
     },
     "execution_count": 759,
     "metadata": {},
     "output_type": "execute_result"
    }
   ],
   "source": [
    "train_df['DTI'].fillna(train_df['DTI'].median(),inplace=True)\n",
    "train_df.loc[DTI_null_index][['DTI']]"
   ]
  },
  {
   "cell_type": "code",
   "execution_count": 760,
   "id": "4fffe13a",
   "metadata": {},
   "outputs": [
    {
     "data": {
      "text/html": [
       "<div>\n",
       "<style scoped>\n",
       "    .dataframe tbody tr th:only-of-type {\n",
       "        vertical-align: middle;\n",
       "    }\n",
       "\n",
       "    .dataframe tbody tr th {\n",
       "        vertical-align: top;\n",
       "    }\n",
       "\n",
       "    .dataframe thead th {\n",
       "        text-align: right;\n",
       "    }\n",
       "</style>\n",
       "<table border=\"1\" class=\"dataframe\">\n",
       "  <thead>\n",
       "    <tr style=\"text-align: right;\">\n",
       "      <th></th>\n",
       "      <th>B_CREDIT_SCORE_O</th>\n",
       "    </tr>\n",
       "  </thead>\n",
       "  <tbody>\n",
       "    <tr>\n",
       "      <th>110</th>\n",
       "      <td>NaN</td>\n",
       "    </tr>\n",
       "    <tr>\n",
       "      <th>132</th>\n",
       "      <td>NaN</td>\n",
       "    </tr>\n",
       "    <tr>\n",
       "      <th>155</th>\n",
       "      <td>NaN</td>\n",
       "    </tr>\n",
       "    <tr>\n",
       "      <th>208</th>\n",
       "      <td>NaN</td>\n",
       "    </tr>\n",
       "    <tr>\n",
       "      <th>631</th>\n",
       "      <td>NaN</td>\n",
       "    </tr>\n",
       "    <tr>\n",
       "      <th>...</th>\n",
       "      <td>...</td>\n",
       "    </tr>\n",
       "    <tr>\n",
       "      <th>249371</th>\n",
       "      <td>NaN</td>\n",
       "    </tr>\n",
       "    <tr>\n",
       "      <th>249490</th>\n",
       "      <td>NaN</td>\n",
       "    </tr>\n",
       "    <tr>\n",
       "      <th>249619</th>\n",
       "      <td>NaN</td>\n",
       "    </tr>\n",
       "    <tr>\n",
       "      <th>249677</th>\n",
       "      <td>NaN</td>\n",
       "    </tr>\n",
       "    <tr>\n",
       "      <th>249746</th>\n",
       "      <td>NaN</td>\n",
       "    </tr>\n",
       "  </tbody>\n",
       "</table>\n",
       "<p>1668 rows × 1 columns</p>\n",
       "</div>"
      ],
      "text/plain": [
       "        B_CREDIT_SCORE_O\n",
       "110                  NaN\n",
       "132                  NaN\n",
       "155                  NaN\n",
       "208                  NaN\n",
       "631                  NaN\n",
       "...                  ...\n",
       "249371               NaN\n",
       "249490               NaN\n",
       "249619               NaN\n",
       "249677               NaN\n",
       "249746               NaN\n",
       "\n",
       "[1668 rows x 1 columns]"
      ]
     },
     "execution_count": 760,
     "metadata": {},
     "output_type": "execute_result"
    }
   ],
   "source": [
    "B_CREDIT_SCORE_O_null_index=train_df.loc[train_df['B_CREDIT_SCORE_O'].isna()].index\n",
    "train_df.loc[B_CREDIT_SCORE_O_null_index][['B_CREDIT_SCORE_O']]"
   ]
  },
  {
   "cell_type": "code",
   "execution_count": 761,
   "id": "66c4a5bd",
   "metadata": {
    "scrolled": false
   },
   "outputs": [
    {
     "data": {
      "text/html": [
       "<div>\n",
       "<style scoped>\n",
       "    .dataframe tbody tr th:only-of-type {\n",
       "        vertical-align: middle;\n",
       "    }\n",
       "\n",
       "    .dataframe tbody tr th {\n",
       "        vertical-align: top;\n",
       "    }\n",
       "\n",
       "    .dataframe thead th {\n",
       "        text-align: right;\n",
       "    }\n",
       "</style>\n",
       "<table border=\"1\" class=\"dataframe\">\n",
       "  <thead>\n",
       "    <tr style=\"text-align: right;\">\n",
       "      <th></th>\n",
       "      <th>B_CREDIT_SCORE_O</th>\n",
       "    </tr>\n",
       "  </thead>\n",
       "  <tbody>\n",
       "    <tr>\n",
       "      <th>110</th>\n",
       "      <td>735.0</td>\n",
       "    </tr>\n",
       "    <tr>\n",
       "      <th>132</th>\n",
       "      <td>735.0</td>\n",
       "    </tr>\n",
       "    <tr>\n",
       "      <th>155</th>\n",
       "      <td>735.0</td>\n",
       "    </tr>\n",
       "    <tr>\n",
       "      <th>208</th>\n",
       "      <td>735.0</td>\n",
       "    </tr>\n",
       "    <tr>\n",
       "      <th>631</th>\n",
       "      <td>735.0</td>\n",
       "    </tr>\n",
       "    <tr>\n",
       "      <th>...</th>\n",
       "      <td>...</td>\n",
       "    </tr>\n",
       "    <tr>\n",
       "      <th>249371</th>\n",
       "      <td>735.0</td>\n",
       "    </tr>\n",
       "    <tr>\n",
       "      <th>249490</th>\n",
       "      <td>735.0</td>\n",
       "    </tr>\n",
       "    <tr>\n",
       "      <th>249619</th>\n",
       "      <td>735.0</td>\n",
       "    </tr>\n",
       "    <tr>\n",
       "      <th>249677</th>\n",
       "      <td>735.0</td>\n",
       "    </tr>\n",
       "    <tr>\n",
       "      <th>249746</th>\n",
       "      <td>735.0</td>\n",
       "    </tr>\n",
       "  </tbody>\n",
       "</table>\n",
       "<p>1668 rows × 1 columns</p>\n",
       "</div>"
      ],
      "text/plain": [
       "        B_CREDIT_SCORE_O\n",
       "110                735.0\n",
       "132                735.0\n",
       "155                735.0\n",
       "208                735.0\n",
       "631                735.0\n",
       "...                  ...\n",
       "249371             735.0\n",
       "249490             735.0\n",
       "249619             735.0\n",
       "249677             735.0\n",
       "249746             735.0\n",
       "\n",
       "[1668 rows x 1 columns]"
      ]
     },
     "execution_count": 761,
     "metadata": {},
     "output_type": "execute_result"
    }
   ],
   "source": [
    "train_df['B_CREDIT_SCORE_O'].fillna(train_df['B_CREDIT_SCORE_O'].median(),inplace=True)\n",
    "train_df.loc[B_CREDIT_SCORE_O_null_index][['B_CREDIT_SCORE_O']]"
   ]
  },
  {
   "cell_type": "markdown",
   "id": "beefbc01",
   "metadata": {},
   "source": [
    "# Datetime variables"
   ]
  },
  {
   "cell_type": "code",
   "execution_count": 762,
   "id": "5882b073",
   "metadata": {},
   "outputs": [],
   "source": [
    "#Converting the 4 date_time columns into additional numerical year and month values\n",
    "train_df['MRP_m']=train_df['MONTHLY_REPORTING_PERIOD'].apply(lambda x:x.month)\n",
    "train_df['MRP_y']=train_df['MONTHLY_REPORTING_PERIOD'].apply(lambda x:x.year)\n",
    "train_df['OD_m']=train_df['ORIGINATION_DATE'].apply(lambda x:x.month)\n",
    "train_df['OD_y']=train_df['ORIGINATION_DATE'].apply(lambda x:x.year)\n",
    "train_df['FPD_m']=train_df['FIRST_PAYMENT_DATE'].apply(lambda x:x.month)\n",
    "train_df['FPD_y']=train_df['FIRST_PAYMENT_DATE'].apply(lambda x:x.year)\n",
    "train_df['MD_m']=train_df['MATURITY_DATE'].apply(lambda x:x.month)\n",
    "train_df['MD_y']=train_df['MATURITY_DATE'].apply(lambda x:x.year)"
   ]
  },
  {
   "cell_type": "code",
   "execution_count": 763,
   "id": "96976960",
   "metadata": {},
   "outputs": [],
   "source": [
    "#Dropping the original date columns\n",
    "train_df.drop(['MONTHLY_REPORTING_PERIOD','ORIGINATION_DATE','FIRST_PAYMENT_DATE','MATURITY_DATE'],axis=1,inplace=True)"
   ]
  },
  {
   "cell_type": "code",
   "execution_count": 764,
   "id": "2fcf9218",
   "metadata": {
    "scrolled": false
   },
   "outputs": [
    {
     "name": "stdout",
     "output_type": "stream",
     "text": [
      "9     22975\n",
      "5     21972\n",
      "6     21952\n",
      "4     21711\n",
      "7     21432\n",
      "8     21115\n",
      "12    20737\n",
      "1     20390\n",
      "10    19905\n",
      "11    19835\n",
      "2     19107\n",
      "3     18615\n",
      "Name: MRP_m, dtype: int64\n",
      "2003    68051\n",
      "2002    41680\n",
      "2001    32713\n",
      "2004    23261\n",
      "2008    20637\n",
      "2005    19160\n",
      "2007    16673\n",
      "2006    14586\n",
      "2000    12765\n",
      "2009      220\n",
      "Name: MRP_y, dtype: int64\n",
      "4     23231\n",
      "3     22243\n",
      "7     21910\n",
      "8     21897\n",
      "6     21629\n",
      "10    21545\n",
      "5     21396\n",
      "12    20300\n",
      "11    20117\n",
      "9     19070\n",
      "2     18767\n",
      "1     17641\n",
      "Name: OD_m, dtype: int64\n",
      "2003    61958\n",
      "2002    44617\n",
      "2001    36912\n",
      "2004    22435\n",
      "2005    18830\n",
      "2008    18581\n",
      "2007    16987\n",
      "2006    14417\n",
      "2000    13369\n",
      "1999     1640\n",
      "Name: OD_y, dtype: int64\n",
      "6     23254\n",
      "5     22441\n",
      "9     22038\n",
      "8     21534\n",
      "10    21489\n",
      "12    21402\n",
      "7     21322\n",
      "1     20108\n",
      "2     20039\n",
      "11    19540\n",
      "4     18768\n",
      "3     17811\n",
      "Name: FPD_m, dtype: int64\n",
      "2003    69430\n",
      "2002    41590\n",
      "2001    31077\n",
      "2004    23303\n",
      "2008    20433\n",
      "2005    19546\n",
      "2007    16150\n",
      "2006    14509\n",
      "2000    12011\n",
      "2009     1321\n",
      "1999      376\n",
      "Name: FPD_y, dtype: int64\n",
      "5     23250\n",
      "4     22416\n",
      "8     22034\n",
      "9     21527\n",
      "7     21517\n",
      "11    21419\n",
      "6     21336\n",
      "12    20106\n",
      "1     20059\n",
      "10    19556\n",
      "3     18731\n",
      "2     17795\n",
      "Name: MD_m, dtype: int64\n",
      "2033    38641\n",
      "2032    26863\n",
      "2031    24279\n",
      "2018    20763\n",
      "2038    15639\n",
      "2034    15541\n",
      "2035    14833\n",
      "2037    13961\n",
      "2017    13270\n",
      "2036    11721\n",
      "2030    11095\n",
      "2016     8197\n",
      "2023     6308\n",
      "2019     5037\n",
      "2022     3475\n",
      "2020     3078\n",
      "2021     2763\n",
      "2013     2477\n",
      "2015     2123\n",
      "2028     1442\n",
      "2024     1334\n",
      "2012     1069\n",
      "2025     1060\n",
      "2027     1037\n",
      "2014     1019\n",
      "2029      916\n",
      "2026      863\n",
      "2011      536\n",
      "2039      285\n",
      "2010      104\n",
      "2009       11\n",
      "2008        5\n",
      "2007        1\n",
      "Name: MD_y, dtype: int64\n"
     ]
    }
   ],
   "source": [
    "#Printing different years/months in all datetime features and their respective frequencies\n",
    "for col in ['MRP_m','MRP_y','OD_m','OD_y','FPD_m','FPD_y','MD_m','MD_y']:\n",
    "    print(train_df[col].value_counts())"
   ]
  },
  {
   "cell_type": "code",
   "execution_count": 765,
   "id": "d49298ea",
   "metadata": {},
   "outputs": [],
   "source": [
    "#Deleting those data points whose MD_y is 2009, 2008 or 2007\n",
    "MD_remove_index=train_df.loc[(train_df['MD_y']==2009) | (train_df['MD_y']==2008) | (train_df['MD_y']==2007)].index\n",
    "train_df.drop(MD_remove_index,inplace=True)\n",
    "y.drop(MD_remove_index,inplace=True)"
   ]
  },
  {
   "cell_type": "code",
   "execution_count": 766,
   "id": "29c20504",
   "metadata": {},
   "outputs": [],
   "source": [
    "#Treating the months and years columns as categorical data and converting them to dummy/indicator variables\n",
    "mrp_m_dummies=pd.get_dummies(train_df['MRP_m'],drop_first=True,prefix='mrp_m')\n",
    "mrp_y_dummies=pd.get_dummies(train_df['MRP_y'],drop_first=True,prefix='mrp_y')\n",
    "od_m_dummies=pd.get_dummies(train_df['OD_m'],drop_first=True,prefix='od_m')\n",
    "od_y_dummies=pd.get_dummies(train_df['OD_y'],drop_first=True,prefix='od_y')\n",
    "fpd_m_dummies=pd.get_dummies(train_df['FPD_m'],drop_first=True,prefix='fpd_m')\n",
    "fpd_y_dummies=pd.get_dummies(train_df['FPD_y'],drop_first=True,prefix='fpd_y')\n",
    "md_m_dummies=pd.get_dummies(train_df['MD_m'],drop_first=True,prefix='md_m')\n",
    "md_y_dummies=pd.get_dummies(train_df['MD_y'],drop_first=True,prefix='md_y')"
   ]
  },
  {
   "cell_type": "code",
   "execution_count": 767,
   "id": "ec6a0b8c",
   "metadata": {},
   "outputs": [],
   "source": [
    "#Adding all the indicator variables to the dataframe\n",
    "train_df=pd.concat([train_df,mrp_m_dummies,mrp_y_dummies,od_m_dummies,od_y_dummies,fpd_m_dummies,fpd_y_dummies,md_m_dummies,md_y_dummies],axis=1)"
   ]
  },
  {
   "cell_type": "code",
   "execution_count": 768,
   "id": "581c915e",
   "metadata": {},
   "outputs": [],
   "source": [
    "#Dropping the original date columns so that they don't interfere with the linear regression\n",
    "train_df.drop(['MRP_m','MRP_y','OD_m','OD_y','FPD_m','FPD_y','MD_m','MD_y'],axis=1,inplace=True)"
   ]
  },
  {
   "cell_type": "code",
   "execution_count": 769,
   "id": "d36925d8",
   "metadata": {},
   "outputs": [
    {
     "data": {
      "text/plain": [
       "((249729, 123), (249729, 2))"
      ]
     },
     "execution_count": 769,
     "metadata": {},
     "output_type": "execute_result"
    }
   ],
   "source": [
    "train_df.shape, y.shape"
   ]
  },
  {
   "cell_type": "markdown",
   "id": "3ffc2af6",
   "metadata": {},
   "source": [
    "# Categorical variables"
   ]
  },
  {
   "cell_type": "code",
   "execution_count": 770,
   "id": "bd4d5c2e",
   "metadata": {},
   "outputs": [],
   "source": [
    "#Creating dummy/indicator variables for all the categorical variables\n",
    "channel_dummies=pd.get_dummies(train_df['CHANNEL'],drop_first=True,prefix='channel')\n",
    "home_buyer_dummies=pd.get_dummies(train_df['FIRST_TIME_HOME_BUYER_IND'],drop_first=True,prefix='home_buyer')\n",
    "loan_purpose_dummies=pd.get_dummies(train_df['LOAN_PURPOSE'],drop_first=True,prefix='loan_purpose')\n",
    "property_type_dummies=pd.get_dummies(train_df['PROPERTY_TYPE'],drop_first=True,prefix='property_type')\n",
    "occupancy_status_dummies=pd.get_dummies(train_df['OCCUPANCY_STATUS'],drop_first=True,prefix='occupancy_status')\n",
    "property_state_dummies=pd.get_dummies(train_df['PROPERTY_STATE'],drop_first=True,prefix='property_state')\n",
    "zip_code_short_dummies=pd.get_dummies(train_df['ZIP_CODE_SHORT'],drop_first=True,prefix='zip_code_short')"
   ]
  },
  {
   "cell_type": "code",
   "execution_count": 771,
   "id": "dc86c421",
   "metadata": {},
   "outputs": [],
   "source": [
    "#Adding all the indicator variables to the dataframe\n",
    "train_df=pd.concat([train_df,channel_dummies,home_buyer_dummies,loan_purpose_dummies,property_type_dummies,occupancy_status_dummies,property_state_dummies,zip_code_short_dummies],axis=1)"
   ]
  },
  {
   "cell_type": "code",
   "execution_count": 772,
   "id": "ecb7097b",
   "metadata": {},
   "outputs": [],
   "source": [
    "#Dropping the original categorical columns so that they don't interfere with regression\n",
    "train_df.drop(['CHANNEL','FIRST_TIME_HOME_BUYER_IND','LOAN_PURPOSE','PROPERTY_TYPE','OCCUPANCY_STATUS','PROPERTY_STATE','ZIP_CODE_SHORT'],axis=1,inplace=True)"
   ]
  },
  {
   "cell_type": "code",
   "execution_count": 773,
   "id": "348eb4ec",
   "metadata": {},
   "outputs": [
    {
     "data": {
      "text/plain": [
       "((249729, 1086), (249729, 2))"
      ]
     },
     "execution_count": 773,
     "metadata": {},
     "output_type": "execute_result"
    }
   ],
   "source": [
    "train_df.shape, y.shape"
   ]
  },
  {
   "cell_type": "markdown",
   "id": "527a625f",
   "metadata": {},
   "source": [
    "# Preparing the Data for Regression"
   ]
  },
  {
   "cell_type": "code",
   "execution_count": 774,
   "id": "d8a3dfd0",
   "metadata": {},
   "outputs": [],
   "source": [
    "#Dropping the LOAN_ID column as it won't be needed anywhere for predictions\n",
    "train_df.drop(['LOAN_ID'],axis=1,inplace=True)"
   ]
  },
  {
   "cell_type": "code",
   "execution_count": 775,
   "id": "7e0c9863",
   "metadata": {},
   "outputs": [],
   "source": [
    "train_df.reset_index(drop=True,inplace=True)\n",
    "y.reset_index(drop=True,inplace=True)"
   ]
  },
  {
   "cell_type": "code",
   "execution_count": 776,
   "id": "76b1115a",
   "metadata": {},
   "outputs": [],
   "source": [
    "#Randomly splitting the dataset into two datasets, one for training and one for testing\n",
    "N=train_df.shape[0]\n",
    "np.random.seed(0)\n",
    "perm=np.random.permutation(range(N))\n",
    "set1=perm[:int(N/2)]\n",
    "set2=perm[int(N/2):]"
   ]
  },
  {
   "cell_type": "code",
   "execution_count": 777,
   "id": "db9d3c2a",
   "metadata": {},
   "outputs": [],
   "source": [
    "train_1=train_df.loc[set1,:].values\n",
    "y_1_m=y.loc[set1,'NMONTHS'].values\n",
    "y_1_f=y.loc[set1,'FORECLOSURE'].values\n",
    "\n",
    "train_2=train_df.loc[set2,:].values\n",
    "y_2_m=y.loc[set2,'NMONTHS'].values\n",
    "y_2_f=y.loc[set2,'FORECLOSURE'].values"
   ]
  },
  {
   "cell_type": "code",
   "execution_count": 778,
   "id": "a74989ff",
   "metadata": {},
   "outputs": [
    {
     "name": "stdout",
     "output_type": "stream",
     "text": [
      "42.68905918922885\n"
     ]
    }
   ],
   "source": [
    "#Calculating the mean absolute error of NMONTHS if it were simply predicted as the average of NMONTHS\n",
    "print(sum(abs(y_2_m-mean_nmonths))/len(y_2_m))"
   ]
  },
  {
   "cell_type": "markdown",
   "id": "7e903c2e",
   "metadata": {},
   "source": [
    "# Building Regression Model"
   ]
  },
  {
   "cell_type": "code",
   "execution_count": 779,
   "id": "bec802ea",
   "metadata": {},
   "outputs": [],
   "source": [
    "from sklearn.linear_model import LinearRegression\n",
    "from sklearn.linear_model import LogisticRegression\n",
    "lr=LinearRegression()\n",
    "lg=LogisticRegression()"
   ]
  },
  {
   "cell_type": "code",
   "execution_count": 780,
   "id": "96f0ff85",
   "metadata": {},
   "outputs": [],
   "source": [
    "#Function that calculates the performance of linear regression model with given true and predicted values\n",
    "def lr_performance(y_true,y_pred):\n",
    "    accuracy=sum(abs(y_true-y_pred))/len(y_true)\n",
    "    print('Mean Absolute Error for NMONTHS:',accuracy)"
   ]
  },
  {
   "cell_type": "code",
   "execution_count": 781,
   "id": "0b1e9204",
   "metadata": {},
   "outputs": [],
   "source": [
    "#Function that calculates the performance of logistic regression model with given true and predicted values\n",
    "def lg_performance(y_true,y_pred):\n",
    "    accuracy=((y_true==y_pred) & (y_pred==1)).sum()\n",
    "    print('Correctly predicted foreclosed loans out of 1000:',accuracy)"
   ]
  },
  {
   "cell_type": "code",
   "execution_count": 782,
   "id": "5898daab",
   "metadata": {},
   "outputs": [],
   "source": [
    "#Function that predicts 1000 loans that are most likely to foreclose\n",
    "def predict_class(obj,test,y_true=None):\n",
    "    y_pred=np.zeros(test.shape[0])\n",
    "    classes_prob=obj.predict_proba(test)\n",
    "    best_1000=np.argsort(classes_prob[:,1])[::-1][:1000]\n",
    "    y_pred[best_1000]=1\n",
    "    if y_true is not None:\n",
    "        lg_performance(y_true,y_pred)\n",
    "    else:\n",
    "        return y_pred"
   ]
  },
  {
   "cell_type": "code",
   "execution_count": 783,
   "id": "362f4cd7",
   "metadata": {},
   "outputs": [],
   "source": [
    "#Function that builds and assesses a model based on a given set of predictor variables\n",
    "def model(predictors):\n",
    "    train_1=train_df.loc[set1,predictors].values\n",
    "    y_1_m=y.loc[set1,'NMONTHS'].values\n",
    "    y_1_f=y.loc[set1,'FORECLOSURE'].values\n",
    "\n",
    "    train_2=train_df.loc[set2,predictors].values\n",
    "    y_2_m=y.loc[set2,'NMONTHS'].values\n",
    "    y_2_f=y.loc[set2,'FORECLOSURE'].values\n",
    "    \n",
    "    #Linear Regression for NMONTHS\n",
    "    #Training on first set and testing on second set\n",
    "    lr_performance(y_2_m,lr.fit(train_1,y_1_m).predict(train_2))\n",
    "    \n",
    "    #Logistic Regression for FORECLOSURE\n",
    "    #Training on first set and testing on second set\n",
    "    predict_class(lg.fit(train_1,y_1_f),train_2,y_2_f)"
   ]
  },
  {
   "cell_type": "markdown",
   "id": "ae72ac4f",
   "metadata": {},
   "source": [
    "- Initially, we will build a regression model using all the predictor variables"
   ]
  },
  {
   "cell_type": "code",
   "execution_count": 784,
   "id": "522a9b0f",
   "metadata": {},
   "outputs": [
    {
     "name": "stdout",
     "output_type": "stream",
     "text": [
      "Mean Absolute Error for NMONTHS: 36.2985612058212\n",
      "Correctly predicted foreclosed loans out of 1000: 109\n"
     ]
    }
   ],
   "source": [
    "all_predictors=list(train_df.columns)\n",
    "model(all_predictors)"
   ]
  },
  {
   "cell_type": "code",
   "execution_count": 785,
   "id": "4df29fbd",
   "metadata": {},
   "outputs": [
    {
     "name": "stdout",
     "output_type": "stream",
     "text": [
      "Mean Absolute Error for NMONTHS: 36.212689028849574\n",
      "Correctly predicted foreclosed loans out of 1000: 110\n"
     ]
    }
   ],
   "source": [
    "#Removing all the ZIP_CODE_SHORT indicator variables from predictors\n",
    "variables=all_predictors[:180]\n",
    "model(variables)"
   ]
  },
  {
   "cell_type": "markdown",
   "id": "8aa1c4ec",
   "metadata": {},
   "source": [
    "# Model Selection"
   ]
  },
  {
   "cell_type": "markdown",
   "id": "b4c20f50",
   "metadata": {},
   "source": [
    "- Performing forward stepwise regression algorithm to look for the important features"
   ]
  },
  {
   "cell_type": "code",
   "execution_count": 234,
   "id": "6a0babb1",
   "metadata": {},
   "outputs": [],
   "source": [
    "def ForwardStepwiseSelection(X,Y,fit_intercept=True, Criterion=\"BIC\"):\n",
    "    def criterion(N,k,sigma):\n",
    "        if Criterion==\"AIC\":\n",
    "            return(2*k+N*np.log(sigma**2))\n",
    "        if Criterion==\"BIC\":\n",
    "            return(k*np.log(N)+N*np.log(sigma**2))\n",
    "    N,k=X.shape\n",
    "    #print(\"k = \"+str(k))\n",
    "    #\n",
    "    # Find variable to minimize the criterion\n",
    "    #\n",
    "    CriterionArray=np.zeros(k)\n",
    "    for j in range(k):\n",
    "        Xnew=X[:,j].reshape((N,1))\n",
    "        reg = LinearRegression(fit_intercept=fit_intercept).fit(Xnew,Y)\n",
    "        Ypred=reg.predict(Xnew)\n",
    "        ehat=Ypred-Y\n",
    "        sigmahat=sum(ehat**2)/N\n",
    "        CriterionArray[j]=criterion(N,1,sigmahat)\n",
    "    I=np.argmin(CriterionArray)\n",
    "    ColumnList=[I]\n",
    "    CurrentMinimumCriterion=np.min(CriterionArray) \n",
    "    print(\"Column added = {:8d} Criterion = {:10.6f}\".format(I,CurrentMinimumCriterion))\n",
    "    #\n",
    "    # Main loop\n",
    "    #\n",
    "    while True:\n",
    "        unused_cols=list(set(range(k)).difference(set(ColumnList)))\n",
    "        nunused_cols=len(unused_cols)\n",
    "        CriterionArray=np.zeros(nunused_cols)\n",
    "        ncols=len(ColumnList)\n",
    "        for j in range(nunused_cols):\n",
    "            col=unused_cols[j]\n",
    "            cols_to_test=ColumnList+[col]\n",
    "            Xnew=X[:,cols_to_test]\n",
    "            reg = LinearRegression(fit_intercept=fit_intercept).fit(Xnew,Y)\n",
    "            Ypred=reg.predict(Xnew)\n",
    "            ehat=Ypred-Y\n",
    "            sigmahat=sum(ehat**2)/N\n",
    "            crit=criterion(N,ncols+1,sigmahat)\n",
    "            #print(crit)\n",
    "            CriterionArray[j]=crit\n",
    "        I=np.argmin(CriterionArray)\n",
    "        NewMinimumCriterion=np.min(CriterionArray)\n",
    "        if NewMinimumCriterion>=CurrentMinimumCriterion:\n",
    "            # We're done looking - return the list of columns\n",
    "            return(ColumnList)\n",
    "        # We got a new minimum so add new column\n",
    "        # and update the current minimum\n",
    "        print(\"Column added = {:8d} Criterion = {:10.6f}\".format(unused_cols[I],NewMinimumCriterion))\n",
    "        ColumnList.append(unused_cols[I])\n",
    "        CurrentMinimumCriterion=NewMinimumCriterion"
   ]
  },
  {
   "cell_type": "code",
   "execution_count": 70,
   "id": "053ba1d0",
   "metadata": {},
   "outputs": [
    {
     "name": "stdout",
     "output_type": "stream",
     "text": [
      "Column added =        1 Criterion = 1956814.213440\n",
      "Column added =        2 Criterion = 1947378.744596\n",
      "Column added =       67 Criterion = 1945365.502982\n",
      "Column added =       66 Criterion = 1943075.832400\n",
      "Column added =       11 Criterion = 1941851.439269\n",
      "Column added =      161 Criterion = 1940806.330676\n",
      "Column added =       32 Criterion = 1939840.436068\n",
      "Column added =      125 Criterion = 1939108.773948\n",
      "Column added =        6 Criterion = 1938379.122772\n",
      "Column added =      177 Criterion = 1937896.576028\n",
      "Column added =      122 Criterion = 1937442.965144\n",
      "Column added =      171 Criterion = 1937011.267097\n",
      "Column added =       12 Criterion = 1936586.099164\n",
      "Column added =      135 Criterion = 1936178.405835\n",
      "Column added =       88 Criterion = 1935801.098694\n",
      "Column added =      166 Criterion = 1935533.581076\n",
      "Column added =      136 Criterion = 1935267.852599\n",
      "Column added =      107 Criterion = 1935044.712555\n",
      "Column added =      106 Criterion = 1934862.983616\n",
      "Column added =      108 Criterion = 1934683.329299\n",
      "Column added =      118 Criterion = 1934510.766022\n",
      "Column added =      117 Criterion = 1934347.939100\n",
      "Column added =      162 Criterion = 1934212.601991\n",
      "Column added =      126 Criterion = 1934092.160177\n",
      "Column added =      172 Criterion = 1933972.341468\n",
      "Column added =      116 Criterion = 1933873.124362\n",
      "Column added =      146 Criterion = 1933777.098992\n",
      "Column added =      123 Criterion = 1933680.262699\n",
      "Column added =      141 Criterion = 1933581.621018\n",
      "Column added =      130 Criterion = 1933503.446411\n",
      "Column added =       47 Criterion = 1933435.904930\n",
      "Column added =      151 Criterion = 1933372.833908\n",
      "Column added =      105 Criterion = 1933314.168977\n",
      "Column added =       31 Criterion = 1933228.799177\n",
      "Column added =      109 Criterion = 1933166.073673\n",
      "Column added =       46 Criterion = 1933101.633315\n",
      "Column added =       89 Criterion = 1933041.754919\n",
      "Column added =        7 Criterion = 1932997.353353\n",
      "Column added =      179 Criterion = 1932956.740272\n",
      "Column added =      158 Criterion = 1932918.764357\n",
      "Column added =       33 Criterion = 1932881.469948\n",
      "Column added =      163 Criterion = 1932844.895555\n",
      "Column added =      165 Criterion = 1932809.251129\n",
      "Column added =      127 Criterion = 1932772.001113\n",
      "Column added =      154 Criterion = 1932738.093341\n",
      "Column added =        4 Criterion = 1932705.504508\n",
      "Column added =       34 Criterion = 1932677.723469\n",
      "Column added =      138 Criterion = 1932650.809600\n",
      "Column added =      132 Criterion = 1932624.254668\n",
      "Column added =      168 Criterion = 1932596.495012\n",
      "Column added =        9 Criterion = 1932577.271943\n",
      "Column added =      104 Criterion = 1932561.203536\n",
      "Column added =      152 Criterion = 1932545.895704\n",
      "Column added =      170 Criterion = 1932530.386650\n",
      "Column added =      142 Criterion = 1932515.693165\n",
      "Column added =      145 Criterion = 1932502.150450\n",
      "Column added =       53 Criterion = 1932488.299429\n",
      "Column added =        8 Criterion = 1932475.277084\n",
      "Column added =      173 Criterion = 1932462.053328\n",
      "Column added =      159 Criterion = 1932447.955925\n",
      "Column added =      124 Criterion = 1932441.577471\n",
      "Column added =       75 Criterion = 1932437.275917\n",
      "Column added =      113 Criterion = 1932433.250769\n",
      "Column added =       87 Criterion = 1932428.925862\n",
      "Column added =      128 Criterion = 1932425.304289\n",
      "Column added =        5 Criterion = 1932422.370496\n",
      "Column added =      167 Criterion = 1932421.520905\n"
     ]
    }
   ],
   "source": [
    "selected_indices=ForwardStepwiseSelection(train_1[:,:180],y_1_m)"
   ]
  },
  {
   "cell_type": "code",
   "execution_count": 786,
   "id": "3500e232",
   "metadata": {},
   "outputs": [
    {
     "name": "stdout",
     "output_type": "stream",
     "text": [
      "['CURRENT_INTEREST_RATE', 'ORIGINAL_UPB', 'fpd_y_2002', 'fpd_y_2001', 'B_CREDIT_SCORE_O', 'property_state_NY', 'mrp_y_2008', 'occupancy_status_P', 'REM_MONTHS_MATURITY', 'property_state_WI', 'property_type_MH', 'property_state_TX', 'NUMBER_OF_UNITS', 'property_state_FL', 'md_y_2013', 'property_state_PR', 'property_state_GA', 'md_y_2032', 'md_y_2031', 'md_y_2033', 'loan_purpose_P', 'home_buyer_Y', 'property_state_OH', 'occupancy_status_S', 'property_state_UT', 'channel_R', 'property_state_MA', 'property_type_PU', 'property_state_IL', 'property_state_CA', 'od_y_2002', 'property_state_MO', 'md_y_2030', 'mrp_y_2007', 'md_y_2034', 'od_y_2001', 'md_y_2014', 'LTV', 'property_state_WY', 'property_state_NJ', 'mrp_y_2009', 'property_state_OK', 'property_state_PA', 'property_state_AL', 'property_state_NC', 'LOAN_AGE', 'od_m_2', 'property_state_HI', 'property_state_CT', 'property_state_SC', 'NUMBER_OF_BORROWERS', 'md_y_2029', 'property_state_MS', 'property_state_TN', 'property_state_IN', 'property_state_LA', 'od_y_2008', 'CLTV', 'property_state_VA', 'property_state_NM', 'property_type_SF', 'md_m_2', 'md_y_2038', 'md_y_2012', 'property_state_AR', 'REM_MONTHS_LEGAL_MATURITY', 'property_state_RI']\n"
     ]
    }
   ],
   "source": [
    "selected_columns=train_df.iloc[:,selected_indices].columns.tolist()\n",
    "print(selected_columns)"
   ]
  },
  {
   "cell_type": "markdown",
   "id": "80653f90",
   "metadata": {},
   "source": [
    "- Trying different combinations of variables as predictors for the regression models based upon the selected columns"
   ]
  },
  {
   "cell_type": "code",
   "execution_count": 787,
   "id": "098bf064",
   "metadata": {
    "scrolled": false
   },
   "outputs": [
    {
     "name": "stdout",
     "output_type": "stream",
     "text": [
      "Mean Absolute Error for NMONTHS: 36.22099990903689\n",
      "Correctly predicted foreclosed loans out of 1000: 109\n"
     ]
    }
   ],
   "source": [
    "variables=selected_columns\n",
    "model(variables)"
   ]
  },
  {
   "cell_type": "code",
   "execution_count": 788,
   "id": "6c75153a",
   "metadata": {},
   "outputs": [
    {
     "name": "stdout",
     "output_type": "stream",
     "text": [
      "Mean Absolute Error for NMONTHS: 36.87911751731407\n",
      "Correctly predicted foreclosed loans out of 1000: 71\n"
     ]
    }
   ],
   "source": [
    "variables=['CURRENT_INTEREST_RATE', 'ORIGINAL_UPB','B_CREDIT_SCORE_O']\n",
    "variables+=list(fpd_y_dummies.columns)\n",
    "model(variables)"
   ]
  },
  {
   "cell_type": "code",
   "execution_count": 789,
   "id": "d23df89b",
   "metadata": {},
   "outputs": [
    {
     "name": "stdout",
     "output_type": "stream",
     "text": [
      "Mean Absolute Error for NMONTHS: 36.94556950467214\n",
      "Correctly predicted foreclosed loans out of 1000: 8\n"
     ]
    }
   ],
   "source": [
    "variables=['CURRENT_INTEREST_RATE', 'ORIGINAL_UPB','REM_MONTHS_MATURITY']\n",
    "variables+=list(fpd_y_dummies.columns)\n",
    "model(variables)"
   ]
  },
  {
   "cell_type": "code",
   "execution_count": 790,
   "id": "3b7311fb",
   "metadata": {},
   "outputs": [
    {
     "name": "stdout",
     "output_type": "stream",
     "text": [
      "Mean Absolute Error for NMONTHS: 36.55588582645256\n",
      "Correctly predicted foreclosed loans out of 1000: 79\n"
     ]
    }
   ],
   "source": [
    "variables=['CURRENT_INTEREST_RATE', 'ORIGINAL_UPB','B_CREDIT_SCORE_O','REM_MONTHS_MATURITY']\n",
    "variables+=list(fpd_y_dummies.columns)\n",
    "variables+=list(property_state_dummies.columns)\n",
    "model(variables)"
   ]
  },
  {
   "cell_type": "code",
   "execution_count": 791,
   "id": "89dbea60",
   "metadata": {},
   "outputs": [
    {
     "name": "stdout",
     "output_type": "stream",
     "text": [
      "Mean Absolute Error for NMONTHS: 36.751139981728834\n",
      "Correctly predicted foreclosed loans out of 1000: 71\n"
     ]
    }
   ],
   "source": [
    "variables=['CURRENT_INTEREST_RATE', 'ORIGINAL_UPB','B_CREDIT_SCORE_O','NUMBER_OF_UNITS']\n",
    "variables+=list(fpd_y_dummies.columns)\n",
    "variables+=list(md_y_dummies.columns)\n",
    "model(variables)"
   ]
  },
  {
   "cell_type": "code",
   "execution_count": 792,
   "id": "7532d4d1",
   "metadata": {},
   "outputs": [
    {
     "name": "stdout",
     "output_type": "stream",
     "text": [
      "Mean Absolute Error for NMONTHS: 36.55588582645256\n",
      "Correctly predicted foreclosed loans out of 1000: 79\n"
     ]
    }
   ],
   "source": [
    "variables=['CURRENT_INTEREST_RATE', 'ORIGINAL_UPB','B_CREDIT_SCORE_O','REM_MONTHS_MATURITY']\n",
    "variables+=list(fpd_y_dummies.columns)\n",
    "variables+=list(property_state_dummies.columns)\n",
    "model(variables)"
   ]
  },
  {
   "cell_type": "code",
   "execution_count": 793,
   "id": "49f2d527",
   "metadata": {},
   "outputs": [
    {
     "name": "stdout",
     "output_type": "stream",
     "text": [
      "Mean Absolute Error for NMONTHS: 37.49191948165719\n",
      "Correctly predicted foreclosed loans out of 1000: 79\n"
     ]
    }
   ],
   "source": [
    "variables=['CURRENT_INTEREST_RATE', 'ORIGINAL_UPB','B_CREDIT_SCORE_O','REM_MONTHS_MATURITY','NUMBER_OF_UNITS']\n",
    "variables+=list(property_state_dummies.columns)\n",
    "model(variables)"
   ]
  },
  {
   "cell_type": "code",
   "execution_count": 794,
   "id": "2e63e0e6",
   "metadata": {},
   "outputs": [
    {
     "name": "stdout",
     "output_type": "stream",
     "text": [
      "Mean Absolute Error for NMONTHS: 36.829484436256855\n",
      "Correctly predicted foreclosed loans out of 1000: 151\n"
     ]
    }
   ],
   "source": [
    "variables=['CURRENT_INTEREST_RATE', 'ORIGINAL_UPB','B_CREDIT_SCORE_O','REM_MONTHS_MATURITY','NUMBER_OF_UNITS']\n",
    "variables+=list(fpd_y_dummies.columns)\n",
    "model(variables)"
   ]
  },
  {
   "cell_type": "code",
   "execution_count": 795,
   "id": "26c0bc65",
   "metadata": {},
   "outputs": [
    {
     "name": "stdout",
     "output_type": "stream",
     "text": [
      "Mean Absolute Error for NMONTHS: 36.422797000842316\n",
      "Correctly predicted foreclosed loans out of 1000: 187\n"
     ]
    }
   ],
   "source": [
    "variables=['CURRENT_INTEREST_RATE', 'ORIGINAL_UPB','B_CREDIT_SCORE_O','REM_MONTHS_MATURITY','NUMBER_OF_UNITS']\n",
    "variables+=list(fpd_y_dummies.columns)\n",
    "variables+=list(property_state_dummies.columns)\n",
    "variables+=list(md_y_dummies.columns)\n",
    "model(variables)"
   ]
  },
  {
   "cell_type": "code",
   "execution_count": 796,
   "id": "b0ac973b",
   "metadata": {},
   "outputs": [
    {
     "name": "stdout",
     "output_type": "stream",
     "text": [
      "Mean Absolute Error for NMONTHS: 36.49859579488625\n",
      "Correctly predicted foreclosed loans out of 1000: 187\n"
     ]
    }
   ],
   "source": [
    "variables=['CURRENT_INTEREST_RATE', 'ORIGINAL_UPB','B_CREDIT_SCORE_O','REM_MONTHS_MATURITY','NUMBER_OF_UNITS']\n",
    "variables+=list(fpd_y_dummies.columns)\n",
    "variables+=list(property_state_dummies.columns)\n",
    "model(variables)"
   ]
  },
  {
   "cell_type": "code",
   "execution_count": 797,
   "id": "2fa45400",
   "metadata": {},
   "outputs": [
    {
     "name": "stdout",
     "output_type": "stream",
     "text": [
      "Mean Absolute Error for NMONTHS: 36.749584760966\n",
      "Correctly predicted foreclosed loans out of 1000: 166\n"
     ]
    }
   ],
   "source": [
    "variables=['CURRENT_INTEREST_RATE', 'ORIGINAL_UPB','B_CREDIT_SCORE_O','REM_MONTHS_MATURITY','NUMBER_OF_UNITS']\n",
    "variables+=list(fpd_y_dummies.columns)\n",
    "variables+=list(md_y_dummies.columns)\n",
    "model(variables)"
   ]
  },
  {
   "cell_type": "code",
   "execution_count": 798,
   "id": "9435216d",
   "metadata": {},
   "outputs": [
    {
     "name": "stdout",
     "output_type": "stream",
     "text": [
      "Mean Absolute Error for NMONTHS: 36.42355911325617\n",
      "Correctly predicted foreclosed loans out of 1000: 79\n"
     ]
    }
   ],
   "source": [
    "variables=['CURRENT_INTEREST_RATE', 'ORIGINAL_UPB','B_CREDIT_SCORE_O','REM_MONTHS_MATURITY','NUMBER_OF_UNITS','LOAN_AGE']\n",
    "variables+=list(fpd_y_dummies.columns)\n",
    "variables+=list(property_state_dummies.columns)\n",
    "variables+=list(md_y_dummies.columns)\n",
    "model(variables)"
   ]
  },
  {
   "cell_type": "markdown",
   "id": "cc3c6931",
   "metadata": {},
   "source": [
    "- We can observe that the best overall model performance is seen when the following variables are used:\n",
    "    - CURRENT_INTEREST_RATE, ORIGINAL_UPB, B_CREDIT_SCORE_O, REM_MONTHS_MATURITY, NUMBER_OF_UNITS\n",
    "    - Indicator variables of FPD_y, PROPERTY_STATE, MD_y"
   ]
  },
  {
   "cell_type": "code",
   "execution_count": 799,
   "id": "8ae5a566",
   "metadata": {},
   "outputs": [],
   "source": [
    "final_variables=['CURRENT_INTEREST_RATE', 'ORIGINAL_UPB','B_CREDIT_SCORE_O','REM_MONTHS_MATURITY','NUMBER_OF_UNITS']\n",
    "final_variables+=list(fpd_y_dummies.columns)\n",
    "final_variables+=list(property_state_dummies.columns)\n",
    "final_variables+=list(md_y_dummies.columns)"
   ]
  },
  {
   "cell_type": "code",
   "execution_count": 800,
   "id": "6027b6e7",
   "metadata": {},
   "outputs": [],
   "source": [
    "#Fitting models according to the best selected variables\n",
    "lr.fit(train_df.loc[set1,final_variables].values,y_1_m)\n",
    "lg.fit(train_df.loc[set1,final_variables].values,y_1_f);"
   ]
  },
  {
   "cell_type": "markdown",
   "id": "78f99d4b",
   "metadata": {},
   "source": [
    "# Working on Test Data"
   ]
  },
  {
   "cell_type": "code",
   "execution_count": 801,
   "id": "46484440",
   "metadata": {},
   "outputs": [],
   "source": [
    "#Reading the test data into dataframe\n",
    "df2=read_data('test_predsAPTE.csv')\n",
    "test_df=df2.copy()"
   ]
  },
  {
   "cell_type": "code",
   "execution_count": 802,
   "id": "74a6373b",
   "metadata": {},
   "outputs": [
    {
     "data": {
      "text/plain": [
       "(100000, 28)"
      ]
     },
     "execution_count": 802,
     "metadata": {},
     "output_type": "execute_result"
    }
   ],
   "source": [
    "test_df.shape"
   ]
  },
  {
   "cell_type": "code",
   "execution_count": 803,
   "id": "7933a175",
   "metadata": {},
   "outputs": [
    {
     "name": "stdout",
     "output_type": "stream",
     "text": [
      "CURRENT_INTEREST_RATE 3\n",
      "LOAN_AGE 3\n",
      "REM_MONTHS_LEGAL_MATURITY 3\n",
      "REM_MONTHS_MATURITY 3\n",
      "MATURITY_DATE 3\n",
      "CLTV 1267\n",
      "NUMBER_OF_BORROWERS 31\n",
      "DTI 3518\n",
      "B_CREDIT_SCORE_O 629\n",
      "CB_CREDIT_SCORE_O 54188\n",
      "FIRST_TIME_HOME_BUYER_IND 82\n",
      "MORTGAGE_INSURANCE_PERCENTAGE 83028\n"
     ]
    }
   ],
   "source": [
    "#Finding the number of null values for all features where null values exist\n",
    "for col in test_df.columns:\n",
    "    if(test_df[col].isnull().sum()>0):\n",
    "        print(col,test_df[col].isnull().sum())"
   ]
  },
  {
   "cell_type": "markdown",
   "id": "74e10e0b",
   "metadata": {},
   "source": [
    "- Deleting the columns of CB_CREDIT_SCORE and MORTGAGE_INSURANCE_PERCENTAGE"
   ]
  },
  {
   "cell_type": "code",
   "execution_count": 804,
   "id": "4d88df3d",
   "metadata": {},
   "outputs": [],
   "source": [
    "test_df.drop(['CB_CREDIT_SCORE_O','MORTGAGE_INSURANCE_PERCENTAGE'],axis=1,inplace=True)"
   ]
  },
  {
   "cell_type": "markdown",
   "id": "7aa3728c",
   "metadata": {},
   "source": [
    "- Imputing null CLTV values with corresponding LTV values"
   ]
  },
  {
   "cell_type": "code",
   "execution_count": 805,
   "id": "4575ab84",
   "metadata": {},
   "outputs": [],
   "source": [
    "test_df['CLTV'].fillna(test_df['LTV'],inplace=True)"
   ]
  },
  {
   "cell_type": "markdown",
   "id": "25f9a39b",
   "metadata": {},
   "source": [
    "- Imputing rest all missing numerical data with the corresponding median values"
   ]
  },
  {
   "cell_type": "code",
   "execution_count": 806,
   "id": "55e9d560",
   "metadata": {},
   "outputs": [],
   "source": [
    "for i in ['CURRENT_INTEREST_RATE','LOAN_AGE','REM_MONTHS_LEGAL_MATURITY','REM_MONTHS_MATURITY','NUMBER_OF_BORROWERS','DTI','B_CREDIT_SCORE_O']:\n",
    "    test_df[i].fillna(test_df[i].median(),inplace=True)"
   ]
  },
  {
   "cell_type": "markdown",
   "id": "69e8f4b9",
   "metadata": {},
   "source": [
    "- Imputing null values of FIRST_TIME_HOME_BUYER_IND with its most frequent value"
   ]
  },
  {
   "cell_type": "code",
   "execution_count": 807,
   "id": "f4341049",
   "metadata": {},
   "outputs": [],
   "source": [
    "test_df['FIRST_TIME_HOME_BUYER_IND'].fillna(test_df['FIRST_TIME_HOME_BUYER_IND'].value_counts().idxmax(),inplace=True)"
   ]
  },
  {
   "cell_type": "code",
   "execution_count": 808,
   "id": "099c11da",
   "metadata": {},
   "outputs": [],
   "source": [
    "#Converting the 4 date_time columns into additional numerical year and month values\n",
    "test_df['MRP_m']=test_df['MONTHLY_REPORTING_PERIOD'].apply(lambda x:x.month)\n",
    "test_df['MRP_y']=test_df['MONTHLY_REPORTING_PERIOD'].apply(lambda x:x.year)\n",
    "test_df['OD_m']=test_df['ORIGINATION_DATE'].apply(lambda x:x.month)\n",
    "test_df['OD_y']=test_df['ORIGINATION_DATE'].apply(lambda x:x.year)\n",
    "test_df['FPD_m']=test_df['FIRST_PAYMENT_DATE'].apply(lambda x:x.month)\n",
    "test_df['FPD_y']=test_df['FIRST_PAYMENT_DATE'].apply(lambda x:x.year)\n",
    "test_df['MD_m']=test_df['MATURITY_DATE'].apply(lambda x:x.month)\n",
    "test_df['MD_y']=test_df['MATURITY_DATE'].apply(lambda x:x.year)"
   ]
  },
  {
   "cell_type": "code",
   "execution_count": 809,
   "id": "f207049a",
   "metadata": {},
   "outputs": [],
   "source": [
    "#Dropping the original date columns\n",
    "test_df.drop(['MONTHLY_REPORTING_PERIOD','ORIGINATION_DATE','FIRST_PAYMENT_DATE','MATURITY_DATE'],axis=1,inplace=True)"
   ]
  },
  {
   "cell_type": "code",
   "execution_count": 810,
   "id": "70093354",
   "metadata": {},
   "outputs": [
    {
     "name": "stdout",
     "output_type": "stream",
     "text": [
      "MD_m 3\n",
      "MD_y 3\n"
     ]
    }
   ],
   "source": [
    "#Finding the number of null values for all features where null values exist\n",
    "for col in test_df.columns:\n",
    "    if(test_df[col].isnull().sum()>0):\n",
    "        print(col,test_df[col].isnull().sum())"
   ]
  },
  {
   "cell_type": "markdown",
   "id": "2a23af6e",
   "metadata": {},
   "source": [
    "- Imputing null values of MD_m and MD_y with their corresponding median values"
   ]
  },
  {
   "cell_type": "code",
   "execution_count": 811,
   "id": "e0ad5968",
   "metadata": {},
   "outputs": [],
   "source": [
    "test_df['MD_m'].fillna(test_df['MD_m'].median(),inplace=True)\n",
    "test_df['MD_m']=test_df['MD_m'].astype('int')\n",
    "\n",
    "test_df['MD_y'].fillna(test_df['MD_y'].median(),inplace=True)\n",
    "test_df['MD_y']=test_df['MD_y'].astype('int')"
   ]
  },
  {
   "cell_type": "code",
   "execution_count": 812,
   "id": "58a47742",
   "metadata": {},
   "outputs": [],
   "source": [
    "#Treating the months and years columns as categorical data and converting them to dummy/indicator variables\n",
    "mrp_m_dummies=pd.get_dummies(test_df['MRP_m'],drop_first=True,prefix='mrp_m')\n",
    "mrp_y_dummies=pd.get_dummies(test_df['MRP_y'],drop_first=True,prefix='mrp_y')\n",
    "od_m_dummies=pd.get_dummies(test_df['OD_m'],drop_first=True,prefix='od_m')\n",
    "od_y_dummies=pd.get_dummies(test_df['OD_y'],drop_first=True,prefix='od_y')\n",
    "fpd_m_dummies=pd.get_dummies(test_df['FPD_m'],drop_first=True,prefix='fpd_m')\n",
    "fpd_y_dummies=pd.get_dummies(test_df['FPD_y'],drop_first=True,prefix='fpd_y')\n",
    "md_m_dummies=pd.get_dummies(test_df['MD_m'],drop_first=True,prefix='md_m')\n",
    "md_y_dummies=pd.get_dummies(test_df['MD_y'],drop_first=True,prefix='md_y')"
   ]
  },
  {
   "cell_type": "code",
   "execution_count": 813,
   "id": "f3e156dd",
   "metadata": {},
   "outputs": [],
   "source": [
    "#Adding all the indicator variables to the dataframe\n",
    "test_df=pd.concat([test_df,mrp_m_dummies,mrp_y_dummies,od_m_dummies,od_y_dummies,fpd_m_dummies,fpd_y_dummies,md_m_dummies,md_y_dummies],axis=1)"
   ]
  },
  {
   "cell_type": "code",
   "execution_count": 814,
   "id": "f19124d5",
   "metadata": {},
   "outputs": [],
   "source": [
    "#Dropping the original date columns so that they don't interfere with regression\n",
    "test_df.drop(['MRP_m','MRP_y','OD_m','OD_y','FPD_m','FPD_y','MD_m','MD_y'],axis=1,inplace=True)"
   ]
  },
  {
   "cell_type": "code",
   "execution_count": 815,
   "id": "5326edd1",
   "metadata": {},
   "outputs": [],
   "source": [
    "#Creating dummy/indicator variables for all the categorical variables\n",
    "channel_dummies=pd.get_dummies(test_df['CHANNEL'],drop_first=True,prefix='channel')\n",
    "home_buyer_dummies=pd.get_dummies(test_df['FIRST_TIME_HOME_BUYER_IND'],drop_first=True,prefix='home_buyer')\n",
    "loan_purpose_dummies=pd.get_dummies(test_df['LOAN_PURPOSE'],drop_first=True,prefix='loan_purpose')\n",
    "property_type_dummies=pd.get_dummies(test_df['PROPERTY_TYPE'],drop_first=True,prefix='property_type')\n",
    "occupancy_status_dummies=pd.get_dummies(test_df['OCCUPANCY_STATUS'],drop_first=True,prefix='occupancy_status')\n",
    "property_state_dummies=pd.get_dummies(test_df['PROPERTY_STATE'],drop_first=True,prefix='property_state')\n",
    "zip_code_short_dummies=pd.get_dummies(test_df['ZIP_CODE_SHORT'],drop_first=True,prefix='zip_code_short')"
   ]
  },
  {
   "cell_type": "code",
   "execution_count": 816,
   "id": "6e2798ac",
   "metadata": {},
   "outputs": [],
   "source": [
    "#Adding all the indicator variables to the dataframe\n",
    "test_df=pd.concat([test_df,channel_dummies,home_buyer_dummies,loan_purpose_dummies,property_type_dummies,occupancy_status_dummies,property_state_dummies,zip_code_short_dummies],axis=1)"
   ]
  },
  {
   "cell_type": "code",
   "execution_count": 817,
   "id": "422d949c",
   "metadata": {},
   "outputs": [],
   "source": [
    "#Dropping the original categorical columns so that they don't interfere with regression\n",
    "test_df.drop(['CHANNEL','FIRST_TIME_HOME_BUYER_IND','LOAN_PURPOSE','PROPERTY_TYPE','OCCUPANCY_STATUS','PROPERTY_STATE','ZIP_CODE_SHORT'],axis=1,inplace=True)"
   ]
  },
  {
   "cell_type": "markdown",
   "id": "8747baba",
   "metadata": {},
   "source": [
    "# Performing Regression and converting to CSV"
   ]
  },
  {
   "cell_type": "code",
   "execution_count": 818,
   "id": "0f5a3b89",
   "metadata": {},
   "outputs": [],
   "source": [
    "#Storing the LOAN_ID column, and then dropping it as it won't be needed anywhere for predictions\n",
    "loan_id=test_df['LOAN_ID'].values\n",
    "test_df.drop(['LOAN_ID'],axis=1,inplace=True)"
   ]
  },
  {
   "cell_type": "code",
   "execution_count": 819,
   "id": "730e52ba",
   "metadata": {},
   "outputs": [],
   "source": [
    "#Getting the predictions for NMONTHS and FORECLOSURES via the selected model\n",
    "nmonths=lr.predict(test_df.loc[:,final_variables].values)\n",
    "foreclosure=predict_class(lg,test_df.loc[:,final_variables].values)"
   ]
  },
  {
   "cell_type": "code",
   "execution_count": 820,
   "id": "0dcbdc9c",
   "metadata": {},
   "outputs": [
    {
     "data": {
      "text/html": [
       "<div>\n",
       "<style scoped>\n",
       "    .dataframe tbody tr th:only-of-type {\n",
       "        vertical-align: middle;\n",
       "    }\n",
       "\n",
       "    .dataframe tbody tr th {\n",
       "        vertical-align: top;\n",
       "    }\n",
       "\n",
       "    .dataframe thead th {\n",
       "        text-align: right;\n",
       "    }\n",
       "</style>\n",
       "<table border=\"1\" class=\"dataframe\">\n",
       "  <thead>\n",
       "    <tr style=\"text-align: right;\">\n",
       "      <th></th>\n",
       "      <th>LOAN_ID</th>\n",
       "      <th>NMONTHS</th>\n",
       "      <th>FORECLOSURE</th>\n",
       "    </tr>\n",
       "  </thead>\n",
       "  <tbody>\n",
       "    <tr>\n",
       "      <th>0</th>\n",
       "      <td>GIJFIDIABDJJ</td>\n",
       "      <td>63.004398</td>\n",
       "      <td>0.0</td>\n",
       "    </tr>\n",
       "    <tr>\n",
       "      <th>1</th>\n",
       "      <td>DDGBHBHCCAHJ</td>\n",
       "      <td>89.823329</td>\n",
       "      <td>0.0</td>\n",
       "    </tr>\n",
       "    <tr>\n",
       "      <th>2</th>\n",
       "      <td>AECGCDHEGIBI</td>\n",
       "      <td>68.750493</td>\n",
       "      <td>0.0</td>\n",
       "    </tr>\n",
       "    <tr>\n",
       "      <th>3</th>\n",
       "      <td>HDBCHDFIEGDE</td>\n",
       "      <td>49.571661</td>\n",
       "      <td>0.0</td>\n",
       "    </tr>\n",
       "    <tr>\n",
       "      <th>4</th>\n",
       "      <td>DGEFBAIFHCDF</td>\n",
       "      <td>61.518462</td>\n",
       "      <td>0.0</td>\n",
       "    </tr>\n",
       "    <tr>\n",
       "      <th>...</th>\n",
       "      <td>...</td>\n",
       "      <td>...</td>\n",
       "      <td>...</td>\n",
       "    </tr>\n",
       "    <tr>\n",
       "      <th>99995</th>\n",
       "      <td>JAIICEAIFBDC</td>\n",
       "      <td>95.569994</td>\n",
       "      <td>0.0</td>\n",
       "    </tr>\n",
       "    <tr>\n",
       "      <th>99996</th>\n",
       "      <td>HADEBAEBFCCJ</td>\n",
       "      <td>48.608967</td>\n",
       "      <td>0.0</td>\n",
       "    </tr>\n",
       "    <tr>\n",
       "      <th>99997</th>\n",
       "      <td>EIIJAFCGJHAG</td>\n",
       "      <td>73.868298</td>\n",
       "      <td>0.0</td>\n",
       "    </tr>\n",
       "    <tr>\n",
       "      <th>99998</th>\n",
       "      <td>IIGEHEFIJFDE</td>\n",
       "      <td>51.973327</td>\n",
       "      <td>0.0</td>\n",
       "    </tr>\n",
       "    <tr>\n",
       "      <th>99999</th>\n",
       "      <td>EIAIHGDGDHAJ</td>\n",
       "      <td>65.218802</td>\n",
       "      <td>0.0</td>\n",
       "    </tr>\n",
       "  </tbody>\n",
       "</table>\n",
       "<p>100000 rows × 3 columns</p>\n",
       "</div>"
      ],
      "text/plain": [
       "            LOAN_ID    NMONTHS FORECLOSURE\n",
       "0      GIJFIDIABDJJ  63.004398         0.0\n",
       "1      DDGBHBHCCAHJ  89.823329         0.0\n",
       "2      AECGCDHEGIBI  68.750493         0.0\n",
       "3      HDBCHDFIEGDE  49.571661         0.0\n",
       "4      DGEFBAIFHCDF  61.518462         0.0\n",
       "...             ...        ...         ...\n",
       "99995  JAIICEAIFBDC  95.569994         0.0\n",
       "99996  HADEBAEBFCCJ  48.608967         0.0\n",
       "99997  EIIJAFCGJHAG  73.868298         0.0\n",
       "99998  IIGEHEFIJFDE  51.973327         0.0\n",
       "99999  EIAIHGDGDHAJ  65.218802         0.0\n",
       "\n",
       "[100000 rows x 3 columns]"
      ]
     },
     "execution_count": 820,
     "metadata": {},
     "output_type": "execute_result"
    }
   ],
   "source": [
    "#Combining the predictions along with unique LOAN_ID into a dataframe\n",
    "prediction_df=pd.DataFrame(data=np.array([loan_id,nmonths,foreclosure]).T,columns=['LOAN_ID','NMONTHS','FORECLOSURE'])\n",
    "prediction_df"
   ]
  },
  {
   "cell_type": "code",
   "execution_count": 822,
   "id": "2b45d554",
   "metadata": {},
   "outputs": [],
   "source": [
    "#Converting dataframe into a CSV file\n",
    "prediction_df.to_csv('Predictions_Nihaar_Thakkar.csv',index=False)"
   ]
  }
 ],
 "metadata": {
  "kernelspec": {
   "display_name": "Python 3 (ipykernel)",
   "language": "python",
   "name": "python3"
  },
  "language_info": {
   "codemirror_mode": {
    "name": "ipython",
    "version": 3
   },
   "file_extension": ".py",
   "mimetype": "text/x-python",
   "name": "python",
   "nbconvert_exporter": "python",
   "pygments_lexer": "ipython3",
   "version": "3.9.12"
  }
 },
 "nbformat": 4,
 "nbformat_minor": 5
}
