{
 "cells": [
  {
   "cell_type": "code",
   "execution_count": 70,
   "id": "cbb0e2d0",
   "metadata": {
    "scrolled": true
   },
   "outputs": [
    {
     "name": "stdout",
     "output_type": "stream",
     "text": [
      "Column added =        1 Criterion = 1956814.213440\n",
      "Column added =        2 Criterion = 1947378.744596\n",
      "Column added =       67 Criterion = 1945365.502982\n",
      "Column added =       66 Criterion = 1943075.832400\n",
      "Column added =       11 Criterion = 1941851.439269\n",
      "Column added =      161 Criterion = 1940806.330676\n",
      "Column added =       32 Criterion = 1939840.436068\n",
      "Column added =      125 Criterion = 1939108.773948\n",
      "Column added =        6 Criterion = 1938379.122772\n",
      "Column added =      177 Criterion = 1937896.576028\n",
      "Column added =      122 Criterion = 1937442.965144\n",
      "Column added =      171 Criterion = 1937011.267097\n",
      "Column added =       12 Criterion = 1936586.099164\n",
      "Column added =      135 Criterion = 1936178.405835\n",
      "Column added =       88 Criterion = 1935801.098694\n",
      "Column added =      166 Criterion = 1935533.581076\n",
      "Column added =      136 Criterion = 1935267.852599\n",
      "Column added =      107 Criterion = 1935044.712555\n",
      "Column added =      106 Criterion = 1934862.983616\n",
      "Column added =      108 Criterion = 1934683.329299\n",
      "Column added =      118 Criterion = 1934510.766022\n",
      "Column added =      117 Criterion = 1934347.939100\n",
      "Column added =      162 Criterion = 1934212.601991\n",
      "Column added =      126 Criterion = 1934092.160177\n",
      "Column added =      172 Criterion = 1933972.341468\n",
      "Column added =      116 Criterion = 1933873.124362\n",
      "Column added =      146 Criterion = 1933777.098992\n",
      "Column added =      123 Criterion = 1933680.262699\n",
      "Column added =      141 Criterion = 1933581.621018\n",
      "Column added =      130 Criterion = 1933503.446411\n",
      "Column added =       47 Criterion = 1933435.904930\n",
      "Column added =      151 Criterion = 1933372.833908\n",
      "Column added =      105 Criterion = 1933314.168977\n",
      "Column added =       31 Criterion = 1933228.799177\n",
      "Column added =      109 Criterion = 1933166.073673\n",
      "Column added =       46 Criterion = 1933101.633315\n",
      "Column added =       89 Criterion = 1933041.754919\n",
      "Column added =        7 Criterion = 1932997.353353\n",
      "Column added =      179 Criterion = 1932956.740272\n",
      "Column added =      158 Criterion = 1932918.764357\n",
      "Column added =       33 Criterion = 1932881.469948\n",
      "Column added =      163 Criterion = 1932844.895555\n",
      "Column added =      165 Criterion = 1932809.251129\n",
      "Column added =      127 Criterion = 1932772.001113\n",
      "Column added =      154 Criterion = 1932738.093341\n",
      "Column added =        4 Criterion = 1932705.504508\n",
      "Column added =       34 Criterion = 1932677.723469\n",
      "Column added =      138 Criterion = 1932650.809600\n",
      "Column added =      132 Criterion = 1932624.254668\n",
      "Column added =      168 Criterion = 1932596.495012\n",
      "Column added =        9 Criterion = 1932577.271943\n",
      "Column added =      104 Criterion = 1932561.203536\n",
      "Column added =      152 Criterion = 1932545.895704\n",
      "Column added =      170 Criterion = 1932530.386650\n",
      "Column added =      142 Criterion = 1932515.693165\n",
      "Column added =      145 Criterion = 1932502.150450\n",
      "Column added =       53 Criterion = 1932488.299429\n",
      "Column added =        8 Criterion = 1932475.277084\n",
      "Column added =      173 Criterion = 1932462.053328\n",
      "Column added =      159 Criterion = 1932447.955925\n",
      "Column added =      124 Criterion = 1932441.577471\n",
      "Column added =       75 Criterion = 1932437.275917\n",
      "Column added =      113 Criterion = 1932433.250769\n",
      "Column added =       87 Criterion = 1932428.925862\n",
      "Column added =      128 Criterion = 1932425.304289\n",
      "Column added =        5 Criterion = 1932422.370496\n",
      "Column added =      167 Criterion = 1932421.520905\n"
     ]
    }
   ],
   "source": [
    "selected_indices=ForwardStepwiseSelection(train_1[:,:180],y_1_m)"
   ]
  },
  {
   "cell_type": "code",
   "execution_count": null,
   "id": "67b21733",
   "metadata": {},
   "outputs": [],
   "source": [
    "['CURRENT_INTEREST_RATE', 'ORIGINAL_UPB', 'fpd_y_2002', 'fpd_y_2001',\n",
    "       'B_CREDIT_SCORE_O', 'property_state_NY', 'mrp_y_2008',\n",
    "       'occupancy_status_P', 'REM_MONTHS_MATURITY', 'property_state_WI',\n",
    "       'property_type_MH', 'property_state_TX', 'NUMBER_OF_UNITS',\n",
    "       'property_state_FL', 'md_y_2013', 'property_state_PR',\n",
    "       'property_state_GA', 'md_y_2032', 'md_y_2031', 'md_y_2033',\n",
    "       'loan_purpose_P', 'home_buyer_Y', 'property_state_OH',\n",
    "       'occupancy_status_S', 'property_state_UT', 'channel_R',\n",
    "       'property_state_MA', 'property_type_PU', 'property_state_IL',\n",
    "       'property_state_CA', 'od_y_2002', 'property_state_MO', 'md_y_2030',\n",
    "       'mrp_y_2007', 'md_y_2034', 'od_y_2001', 'md_y_2014', 'LTV',\n",
    "       'property_state_WY', 'property_state_NJ', 'mrp_y_2009',\n",
    "       'property_state_OK', 'property_state_PA', 'property_state_AL',\n",
    "       'property_state_NC', 'LOAN_AGE', 'od_m_2', 'property_state_HI',\n",
    "       'property_state_CT', 'property_state_SC', 'NUMBER_OF_BORROWERS',\n",
    "       'md_y_2029', 'property_state_MS', 'property_state_TN',\n",
    "       'property_state_IN', 'property_state_LA', 'od_y_2008', 'CLTV',\n",
    "       'property_state_VA', 'property_state_NM', 'property_type_SF', 'md_m_2',\n",
    "       'md_y_2038', 'md_y_2012', 'property_state_AR',\n",
    "       'REM_MONTHS_LEGAL_MATURITY', 'property_state_RI']"
   ]
  }
 ],
 "metadata": {
  "kernelspec": {
   "display_name": "Python 3 (ipykernel)",
   "language": "python",
   "name": "python3"
  },
  "language_info": {
   "codemirror_mode": {
    "name": "ipython",
    "version": 3
   },
   "file_extension": ".py",
   "mimetype": "text/x-python",
   "name": "python",
   "nbconvert_exporter": "python",
   "pygments_lexer": "ipython3",
   "version": "3.9.12"
  }
 },
 "nbformat": 4,
 "nbformat_minor": 5
}
